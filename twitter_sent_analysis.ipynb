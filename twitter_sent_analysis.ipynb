{
 "cells": [
  {
   "cell_type": "markdown",
   "metadata": {},
   "source": [
    "# Twitter Sentiment Analysis Dataset\n",
    "\n",
    "### Overview\n",
    "\n",
    "### This is an entity-level sentiment analysis dataset of twitter. Given a message and an entity, the task is to judge the sentiment of the message about the entity.  \n",
    "### There are three classes in this dataset: Positive, Negative and Neutral. We regard messages that are not relevant to the entity (i.e. Irrelevant) as Neutral."
   ]
  },
  {
   "cell_type": "code",
   "execution_count": 86,
   "metadata": {},
   "outputs": [],
   "source": [
    "# import dependencies\n",
    "import pandas as pd\n",
    "import numpy as np\n",
    "import matplotlib.pyplot as plt\n",
    "import seaborn as sns\n",
    "import tensorflow as tf\n",
    "from tensorflow import keras\n",
    "\n",
    "# data cleaning\n",
    "import re, string\n",
    "import demoji\n",
    "\n",
    "# transformers\n",
    "import transformers\n",
    "from transformers import RobertaTokenizerFast\n",
    "from transformers import TFRobertaModel\n",
    "\n",
    "from imblearn.over_sampling import RandomOverSampler\n",
    "\n",
    "# Scikit-Learn\n",
    "from sklearn.model_selection import train_test_split\n",
    "from sklearn.preprocessing import OneHotEncoder\n",
    "from sklearn.metrics import classification_report, confusion_matrix\n",
    "\n",
    "import itertools\n",
    "\n",
    "\n",
    "sns.set_style(\"darkgrid\")"
   ]
  },
  {
   "cell_type": "code",
   "execution_count": 2,
   "metadata": {},
   "outputs": [
    {
     "data": {
      "text/html": [
       "<div>\n",
       "<style scoped>\n",
       "    .dataframe tbody tr th:only-of-type {\n",
       "        vertical-align: middle;\n",
       "    }\n",
       "\n",
       "    .dataframe tbody tr th {\n",
       "        vertical-align: top;\n",
       "    }\n",
       "\n",
       "    .dataframe thead th {\n",
       "        text-align: right;\n",
       "    }\n",
       "</style>\n",
       "<table border=\"1\" class=\"dataframe\">\n",
       "  <thead>\n",
       "    <tr style=\"text-align: right;\">\n",
       "      <th></th>\n",
       "      <th>Target</th>\n",
       "      <th>Text</th>\n",
       "    </tr>\n",
       "  </thead>\n",
       "  <tbody>\n",
       "    <tr>\n",
       "      <th>0</th>\n",
       "      <td>Positive</td>\n",
       "      <td>I am coming to the borders and I will kill you...</td>\n",
       "    </tr>\n",
       "    <tr>\n",
       "      <th>1</th>\n",
       "      <td>Positive</td>\n",
       "      <td>im getting on borderlands and i will kill you ...</td>\n",
       "    </tr>\n",
       "    <tr>\n",
       "      <th>2</th>\n",
       "      <td>Positive</td>\n",
       "      <td>im coming on borderlands and i will murder you...</td>\n",
       "    </tr>\n",
       "    <tr>\n",
       "      <th>3</th>\n",
       "      <td>Positive</td>\n",
       "      <td>im getting on borderlands 2 and i will murder ...</td>\n",
       "    </tr>\n",
       "    <tr>\n",
       "      <th>4</th>\n",
       "      <td>Positive</td>\n",
       "      <td>im getting into borderlands and i can murder y...</td>\n",
       "    </tr>\n",
       "  </tbody>\n",
       "</table>\n",
       "</div>"
      ],
      "text/plain": [
       "     Target                                               Text\n",
       "0  Positive  I am coming to the borders and I will kill you...\n",
       "1  Positive  im getting on borderlands and i will kill you ...\n",
       "2  Positive  im coming on borderlands and i will murder you...\n",
       "3  Positive  im getting on borderlands 2 and i will murder ...\n",
       "4  Positive  im getting into borderlands and i can murder y..."
      ]
     },
     "execution_count": 2,
     "metadata": {},
     "output_type": "execute_result"
    }
   ],
   "source": [
    "# read Train CSV, set new Column Names and drop unimportant columns\n",
    "df_train = pd.read_csv(\"twitter_training.csv\")\n",
    "df_train.columns = [\"Id\", \"Name\", \"Target\", \"Text\"]\n",
    "df_train.drop(columns=[\"Id\", \"Name\"], axis=1, inplace=True)\n",
    "df_train.head()"
   ]
  },
  {
   "cell_type": "code",
   "execution_count": 3,
   "metadata": {},
   "outputs": [
    {
     "data": {
      "text/html": [
       "<div>\n",
       "<style scoped>\n",
       "    .dataframe tbody tr th:only-of-type {\n",
       "        vertical-align: middle;\n",
       "    }\n",
       "\n",
       "    .dataframe tbody tr th {\n",
       "        vertical-align: top;\n",
       "    }\n",
       "\n",
       "    .dataframe thead th {\n",
       "        text-align: right;\n",
       "    }\n",
       "</style>\n",
       "<table border=\"1\" class=\"dataframe\">\n",
       "  <thead>\n",
       "    <tr style=\"text-align: right;\">\n",
       "      <th></th>\n",
       "      <th>Target</th>\n",
       "      <th>Text</th>\n",
       "    </tr>\n",
       "  </thead>\n",
       "  <tbody>\n",
       "    <tr>\n",
       "      <th>0</th>\n",
       "      <td>Neutral</td>\n",
       "      <td>BBC News - Amazon boss Jeff Bezos rejects clai...</td>\n",
       "    </tr>\n",
       "    <tr>\n",
       "      <th>1</th>\n",
       "      <td>Negative</td>\n",
       "      <td>@Microsoft Why do I pay for WORD when it funct...</td>\n",
       "    </tr>\n",
       "    <tr>\n",
       "      <th>2</th>\n",
       "      <td>Negative</td>\n",
       "      <td>CSGO matchmaking is so full of closet hacking,...</td>\n",
       "    </tr>\n",
       "    <tr>\n",
       "      <th>3</th>\n",
       "      <td>Neutral</td>\n",
       "      <td>Now the President is slapping Americans in the...</td>\n",
       "    </tr>\n",
       "    <tr>\n",
       "      <th>4</th>\n",
       "      <td>Negative</td>\n",
       "      <td>Hi @EAHelp I’ve had Madeleine McCann in my cel...</td>\n",
       "    </tr>\n",
       "  </tbody>\n",
       "</table>\n",
       "</div>"
      ],
      "text/plain": [
       "     Target                                               Text\n",
       "0   Neutral  BBC News - Amazon boss Jeff Bezos rejects clai...\n",
       "1  Negative  @Microsoft Why do I pay for WORD when it funct...\n",
       "2  Negative  CSGO matchmaking is so full of closet hacking,...\n",
       "3   Neutral  Now the President is slapping Americans in the...\n",
       "4  Negative  Hi @EAHelp I’ve had Madeleine McCann in my cel..."
      ]
     },
     "execution_count": 3,
     "metadata": {},
     "output_type": "execute_result"
    }
   ],
   "source": [
    "# read Validation CSV, set new Column Names and drop unimportant columns\n",
    "df_val = pd.read_csv(\"twitter_validation.csv\")\n",
    "df_val.columns = [\"Id\", \"Name\", \"Target\", \"Text\"]\n",
    "df_val.drop(columns=[\"Id\", \"Name\"], axis=1, inplace=True)\n",
    "df_val.head()"
   ]
  },
  {
   "cell_type": "code",
   "execution_count": 4,
   "metadata": {},
   "outputs": [
    {
     "name": "stdout",
     "output_type": "stream",
     "text": [
      "Len Train DataFrame: 74681\n",
      "Len Validation DataFrame: 999\n"
     ]
    }
   ],
   "source": [
    "# Show how much Rows we have\n",
    "print(f\"Len Train DataFrame: {len(df_train)}\")\n",
    "print(f\"Len Validation DataFrame: {len(df_val)}\")"
   ]
  },
  {
   "cell_type": "code",
   "execution_count": 5,
   "metadata": {},
   "outputs": [
    {
     "name": "stdout",
     "output_type": "stream",
     "text": [
      "Len Train DataFrame: 69772\n",
      "Len Validation DataFrame: 998\n"
     ]
    }
   ],
   "source": [
    "# drop duplicates\n",
    "df_train = df_train.drop_duplicates()\n",
    "df_val = df_val.drop_duplicates()\n",
    "print(f\"Len Train DataFrame: {len(df_train)}\")\n",
    "print(f\"Len Validation DataFrame: {len(df_val)}\")"
   ]
  },
  {
   "cell_type": "code",
   "execution_count": 6,
   "metadata": {},
   "outputs": [
    {
     "name": "stdout",
     "output_type": "stream",
     "text": [
      "NaN Values in Train DataFrame? True\n",
      "NaN Values in Validation DataFrame? False\n"
     ]
    }
   ],
   "source": [
    "# check for NaN Values in DataFrames\n",
    "check_nan_train = df_train.isnull().values.any()\n",
    "check_nan_val = df_val.isnull().values.any()\n",
    "print(f\"NaN Values in Train DataFrame? {check_nan_train}\")\n",
    "print(f\"NaN Values in Validation DataFrame? {check_nan_val}\")"
   ]
  },
  {
   "cell_type": "code",
   "execution_count": 7,
   "metadata": {},
   "outputs": [
    {
     "name": "stdout",
     "output_type": "stream",
     "text": [
      "NaN Values in Train DataFrame? False\n",
      "\n",
      "\n",
      "Len Train DataFrame: 69768\n",
      "Len Validation DataFrame: 998\n"
     ]
    }
   ],
   "source": [
    "# Drop Rows with NaN Value\n",
    "df_train = df_train.dropna()\n",
    "\n",
    "# Check again and check the new Length from Train DataFrame\n",
    "check_nan_train = df_train.isnull().values.any()\n",
    "print(f\"NaN Values in Train DataFrame? {check_nan_train}\\n\\n\")\n",
    "\n",
    "print(f\"Len Train DataFrame: {len(df_train)}\")\n",
    "print(f\"Len Validation DataFrame: {len(df_val)}\")"
   ]
  },
  {
   "cell_type": "code",
   "execution_count": 8,
   "metadata": {},
   "outputs": [
    {
     "data": {
      "text/html": [
       "<div>\n",
       "<style scoped>\n",
       "    .dataframe tbody tr th:only-of-type {\n",
       "        vertical-align: middle;\n",
       "    }\n",
       "\n",
       "    .dataframe tbody tr th {\n",
       "        vertical-align: top;\n",
       "    }\n",
       "\n",
       "    .dataframe thead th {\n",
       "        text-align: right;\n",
       "    }\n",
       "</style>\n",
       "<table border=\"1\" class=\"dataframe\">\n",
       "  <thead>\n",
       "    <tr style=\"text-align: right;\">\n",
       "      <th></th>\n",
       "      <th>Target</th>\n",
       "      <th>Text</th>\n",
       "    </tr>\n",
       "  </thead>\n",
       "  <tbody>\n",
       "    <tr>\n",
       "      <th>39301</th>\n",
       "      <td>Negative</td>\n",
       "      <td>@ PlayHearthstone On the mobile version I only...</td>\n",
       "    </tr>\n",
       "    <tr>\n",
       "      <th>19663</th>\n",
       "      <td>Irrelevant</td>\n",
       "      <td>Happy birthday, my # 1 extension!</td>\n",
       "    </tr>\n",
       "    <tr>\n",
       "      <th>5161</th>\n",
       "      <td>Negative</td>\n",
       "      <td>So apparently Fred Perry takes off the Proud B...</td>\n",
       "    </tr>\n",
       "    <tr>\n",
       "      <th>38735</th>\n",
       "      <td>Irrelevant</td>\n",
       "      <td>@christineexists my bestie @hearthstone_d and ...</td>\n",
       "    </tr>\n",
       "    <tr>\n",
       "      <th>20387</th>\n",
       "      <td>Positive</td>\n",
       "      <td>Important research and so fascinating! .</td>\n",
       "    </tr>\n",
       "  </tbody>\n",
       "</table>\n",
       "</div>"
      ],
      "text/plain": [
       "           Target                                               Text\n",
       "39301    Negative  @ PlayHearthstone On the mobile version I only...\n",
       "19663  Irrelevant                  Happy birthday, my # 1 extension!\n",
       "5161     Negative  So apparently Fred Perry takes off the Proud B...\n",
       "38735  Irrelevant  @christineexists my bestie @hearthstone_d and ...\n",
       "20387    Positive          Important research and so fascinating! . "
      ]
     },
     "execution_count": 8,
     "metadata": {},
     "output_type": "execute_result"
    }
   ],
   "source": [
    "# shuffle Train DataFrame\n",
    "df_train = df_train.sample(frac=1, random_state=42)\n",
    "df_train.head()"
   ]
  },
  {
   "cell_type": "code",
   "execution_count": 9,
   "metadata": {},
   "outputs": [
    {
     "name": "stdout",
     "output_type": "stream",
     "text": [
      "Target: Negative\n",
      "Text:\n",
      "They took my phone number from me. Thanks @verizon I was rey pay the bill yall r jus give me enough time tho\n",
      "\n",
      "\n",
      "Target: Positive\n",
      "Text:\n",
      "to play Borderlands 2 again because I hate myself, glad I installed it, it works perfectly on my 8 year old Mac, just nice\n",
      "\n",
      "\n",
      "Target: Negative\n",
      "Text:\n",
      "@ NBA2K @ Ronnie2K Not sure if I feel discriminated against, why would you ask if I communicate with anyone on 2K? Do you know that there are deaf people who play 2K and it is difficult for us to use a microphone?. We can only show how well we play the game, but... communicate? C'mon!\n",
      "\n",
      "\n",
      "Target: Negative\n",
      "Text:\n",
      "Wtf lol\n",
      "\n",
      "\n"
     ]
    }
   ],
   "source": [
    "import random\n",
    "\n",
    "# print some examples\n",
    "for i in range(4):\n",
    "    random_idx = random.choice(df_train.index)  # get random index\n",
    "    # get values from random_idx\n",
    "    values = df_train.loc[random_idx, [\"Target\", \"Text\"]].tolist()\n",
    "    print(f\"Target: {values[0]}\\nText:\\n{values[1]}\\n\\n\")"
   ]
  },
  {
   "cell_type": "code",
   "execution_count": 10,
   "metadata": {},
   "outputs": [],
   "source": [
    "# CUSTOM DEFINED FUNCTIONS TO CLEAN THE TWEETS\n",
    "\n",
    "\n",
    "def remove_emojis(text: str) -> str:\n",
    "    \"\"\"\n",
    "    Removes emojis from the input text using the `demoji` library.\n",
    "\n",
    "    Args:\n",
    "        text (str): The input text from the emojis needs to be removed.\n",
    "\n",
    "    Returns:\n",
    "        str: The input text with all emojis removed.\n",
    "    \"\"\"\n",
    "    return demoji.replace(text, \"\")\n",
    "\n",
    "\n",
    "def strip_all_entities(text: str) -> str:\n",
    "    \"\"\"\n",
    "    Cleans the input text by removing new line characters, converting to lowercase,\n",
    "    and stripping out URLs, mentions, non-ASCII characters, and certain punctuation marks.\n",
    "\n",
    "    Args:\n",
    "        text (str): The input text to be cleaned.\n",
    "\n",
    "    Returns:\n",
    "        str: The cleaned text, with specified characters and patterns removed.\n",
    "    \"\"\"\n",
    "    text = text.replace(\"\\r\", \"\").replace(\"\\n\", \" \").replace(\"\\n\", \" \").lower()\n",
    "    text = re.sub(r\"(?:\\@|https?\\://)\\S+\", \"\", text)\n",
    "    text = re.sub(r\"[^\\x00-\\x7f]\", r\"\", text)\n",
    "    banned_list = string.punctuation + \"Ã\" + \"±\" + \"ã\" + \"¼\" + \"â\" + \"»\" + \"§\"\n",
    "    table = str.maketrans(\"\", \"\", banned_list)\n",
    "    text = text.translate(table)\n",
    "    return text\n",
    "\n",
    "\n",
    "def clean_hashtags(tweet: str) -> str:\n",
    "    \"\"\"\n",
    "    Processes hashtags in a tweet by removing hashtags at the end of the tweet and stripping the hashtag symbol from those in the middle.\n",
    "\n",
    "    Args:\n",
    "        tweet (str): The tweet text to be processed.\n",
    "\n",
    "    Returns:\n",
    "    str: The modified tweet text, where middle-positioned hashtags have been converted into plain words by removing the '#' symbol,\n",
    "         and any hashtags at the tweet's end have been deleted.\n",
    "    \"\"\"\n",
    "    new_tweet = \" \".join(\n",
    "        word.strip()\n",
    "        for word in re.split(\"#(?!(?:hashtag)\\b)[\\w-]+(?=(?:\\s+#[\\w-]+)*\\s*$)\", tweet)\n",
    "    )\n",
    "    new_tweet2 = \" \".join(word.strip() for word in re.split(\"#|_\", new_tweet))\n",
    "    return new_tweet2\n",
    "\n",
    "\n",
    "def filter_chars(a: str) -> str:\n",
    "    \"\"\"\n",
    "    Filters out words containing special characters such as '&' and '$' from the input string.\n",
    "\n",
    "    Args:\n",
    "        a (str): The input string from which words containing '&' and '$' should be removed.\n",
    "\n",
    "    Returns:\n",
    "        str: The cleaned string with words containing the specified special characters removed.\n",
    "    \"\"\"\n",
    "    sent = []\n",
    "    for word in a.split(\" \"):\n",
    "        if (\"$\" in word) | (\"&\" in word):\n",
    "            sent.append(\"\")\n",
    "        else:\n",
    "            sent.append(word)\n",
    "    return \" \".join(sent)\n",
    "\n",
    "\n",
    "def remove_mult_spaces(text: str) -> str:\n",
    "    \"\"\"\n",
    "    Reduces multiple consecutive spaces in the input text to a single space.\n",
    "\n",
    "    Args:\n",
    "        text (str): The input text with potentially multiple consecutive spaces.\n",
    "\n",
    "    Returns:\n",
    "        str: The input text with all multiple spaces reduced to single spaces.\n",
    "    \"\"\"\n",
    "    return re.sub(\"\\s\\s+\", \" \", text)"
   ]
  },
  {
   "cell_type": "code",
   "execution_count": 11,
   "metadata": {},
   "outputs": [],
   "source": [
    "# create clean training texts\n",
    "texts_clean = []\n",
    "for t in df_train[\"Text\"].values:\n",
    "    texts_clean.append(\n",
    "        remove_mult_spaces(\n",
    "            filter_chars(clean_hashtags(strip_all_entities(remove_emojis(t))))\n",
    "        )\n",
    "    )"
   ]
  },
  {
   "cell_type": "code",
   "execution_count": 12,
   "metadata": {},
   "outputs": [],
   "source": [
    "# create clean validation texts\n",
    "texts_clean_val = []\n",
    "for t in df_val[\"Text\"].values:\n",
    "    texts_clean_val.append(\n",
    "        remove_mult_spaces(\n",
    "            filter_chars(clean_hashtags(strip_all_entities(remove_emojis(t))))\n",
    "        )\n",
    "    )"
   ]
  },
  {
   "cell_type": "code",
   "execution_count": 13,
   "metadata": {},
   "outputs": [
    {
     "data": {
      "text/html": [
       "<div>\n",
       "<style scoped>\n",
       "    .dataframe tbody tr th:only-of-type {\n",
       "        vertical-align: middle;\n",
       "    }\n",
       "\n",
       "    .dataframe tbody tr th {\n",
       "        vertical-align: top;\n",
       "    }\n",
       "\n",
       "    .dataframe thead th {\n",
       "        text-align: right;\n",
       "    }\n",
       "</style>\n",
       "<table border=\"1\" class=\"dataframe\">\n",
       "  <thead>\n",
       "    <tr style=\"text-align: right;\">\n",
       "      <th></th>\n",
       "      <th>Target</th>\n",
       "      <th>Text</th>\n",
       "      <th>TextClean</th>\n",
       "    </tr>\n",
       "  </thead>\n",
       "  <tbody>\n",
       "    <tr>\n",
       "      <th>39301</th>\n",
       "      <td>Negative</td>\n",
       "      <td>@ PlayHearthstone On the mobile version I only...</td>\n",
       "      <td>playhearthstone on the mobile version i only g...</td>\n",
       "    </tr>\n",
       "    <tr>\n",
       "      <th>19663</th>\n",
       "      <td>Irrelevant</td>\n",
       "      <td>Happy birthday, my # 1 extension!</td>\n",
       "      <td>happy birthday my 1 extension</td>\n",
       "    </tr>\n",
       "    <tr>\n",
       "      <th>5161</th>\n",
       "      <td>Negative</td>\n",
       "      <td>So apparently Fred Perry takes off the Proud B...</td>\n",
       "      <td>so apparently fred perry takes off the proud b...</td>\n",
       "    </tr>\n",
       "    <tr>\n",
       "      <th>38735</th>\n",
       "      <td>Irrelevant</td>\n",
       "      <td>@christineexists my bestie @hearthstone_d and ...</td>\n",
       "      <td>my bestie and i are reading the devouring grey...</td>\n",
       "    </tr>\n",
       "    <tr>\n",
       "      <th>20387</th>\n",
       "      <td>Positive</td>\n",
       "      <td>Important research and so fascinating! .</td>\n",
       "      <td>important research and so fascinating</td>\n",
       "    </tr>\n",
       "  </tbody>\n",
       "</table>\n",
       "</div>"
      ],
      "text/plain": [
       "           Target                                               Text  \\\n",
       "39301    Negative  @ PlayHearthstone On the mobile version I only...   \n",
       "19663  Irrelevant                  Happy birthday, my # 1 extension!   \n",
       "5161     Negative  So apparently Fred Perry takes off the Proud B...   \n",
       "38735  Irrelevant  @christineexists my bestie @hearthstone_d and ...   \n",
       "20387    Positive          Important research and so fascinating! .    \n",
       "\n",
       "                                               TextClean  \n",
       "39301  playhearthstone on the mobile version i only g...  \n",
       "19663                      happy birthday my 1 extension  \n",
       "5161   so apparently fred perry takes off the proud b...  \n",
       "38735  my bestie and i are reading the devouring grey...  \n",
       "20387              important research and so fascinating  "
      ]
     },
     "execution_count": 13,
     "metadata": {},
     "output_type": "execute_result"
    }
   ],
   "source": [
    "# make a new Column to the DataFrames\n",
    "df_train[\"TextClean\"] = texts_clean\n",
    "df_val[\"TextClean\"] = texts_clean_val\n",
    "df_train.head()"
   ]
  },
  {
   "cell_type": "code",
   "execution_count": 14,
   "metadata": {},
   "outputs": [],
   "source": [
    "# get the text lengths from Train DataFrame\n",
    "text_len = []\n",
    "for text in df_train[\"TextClean\"].values:\n",
    "    tweet_len = len(text.split())\n",
    "    text_len.append(tweet_len)"
   ]
  },
  {
   "cell_type": "code",
   "execution_count": 15,
   "metadata": {},
   "outputs": [],
   "source": [
    "# get the text lengths from Test DataFrame\n",
    "text_len_val = []\n",
    "for text in df_val[\"TextClean\"].values:\n",
    "    tweet_len_val = len(text.split())\n",
    "    text_len_val.append(tweet_len)"
   ]
  },
  {
   "cell_type": "code",
   "execution_count": 16,
   "metadata": {},
   "outputs": [
    {
     "data": {
      "text/html": [
       "<div>\n",
       "<style scoped>\n",
       "    .dataframe tbody tr th:only-of-type {\n",
       "        vertical-align: middle;\n",
       "    }\n",
       "\n",
       "    .dataframe tbody tr th {\n",
       "        vertical-align: top;\n",
       "    }\n",
       "\n",
       "    .dataframe thead th {\n",
       "        text-align: right;\n",
       "    }\n",
       "</style>\n",
       "<table border=\"1\" class=\"dataframe\">\n",
       "  <thead>\n",
       "    <tr style=\"text-align: right;\">\n",
       "      <th></th>\n",
       "      <th>Target</th>\n",
       "      <th>Text</th>\n",
       "      <th>TextClean</th>\n",
       "      <th>TextLen</th>\n",
       "    </tr>\n",
       "  </thead>\n",
       "  <tbody>\n",
       "    <tr>\n",
       "      <th>39301</th>\n",
       "      <td>Negative</td>\n",
       "      <td>@ PlayHearthstone On the mobile version I only...</td>\n",
       "      <td>playhearthstone on the mobile version i only g...</td>\n",
       "      <td>53</td>\n",
       "    </tr>\n",
       "    <tr>\n",
       "      <th>19663</th>\n",
       "      <td>Irrelevant</td>\n",
       "      <td>Happy birthday, my # 1 extension!</td>\n",
       "      <td>happy birthday my 1 extension</td>\n",
       "      <td>5</td>\n",
       "    </tr>\n",
       "    <tr>\n",
       "      <th>5161</th>\n",
       "      <td>Negative</td>\n",
       "      <td>So apparently Fred Perry takes off the Proud B...</td>\n",
       "      <td>so apparently fred perry takes off the proud b...</td>\n",
       "      <td>20</td>\n",
       "    </tr>\n",
       "    <tr>\n",
       "      <th>38735</th>\n",
       "      <td>Irrelevant</td>\n",
       "      <td>@christineexists my bestie @hearthstone_d and ...</td>\n",
       "      <td>my bestie and i are reading the devouring grey...</td>\n",
       "      <td>36</td>\n",
       "    </tr>\n",
       "    <tr>\n",
       "      <th>20387</th>\n",
       "      <td>Positive</td>\n",
       "      <td>Important research and so fascinating! .</td>\n",
       "      <td>important research and so fascinating</td>\n",
       "      <td>5</td>\n",
       "    </tr>\n",
       "  </tbody>\n",
       "</table>\n",
       "</div>"
      ],
      "text/plain": [
       "           Target                                               Text  \\\n",
       "39301    Negative  @ PlayHearthstone On the mobile version I only...   \n",
       "19663  Irrelevant                  Happy birthday, my # 1 extension!   \n",
       "5161     Negative  So apparently Fred Perry takes off the Proud B...   \n",
       "38735  Irrelevant  @christineexists my bestie @hearthstone_d and ...   \n",
       "20387    Positive          Important research and so fascinating! .    \n",
       "\n",
       "                                               TextClean  TextLen  \n",
       "39301  playhearthstone on the mobile version i only g...       53  \n",
       "19663                      happy birthday my 1 extension        5  \n",
       "5161   so apparently fred perry takes off the proud b...       20  \n",
       "38735  my bestie and i are reading the devouring grey...       36  \n",
       "20387              important research and so fascinating        5  "
      ]
     },
     "execution_count": 16,
     "metadata": {},
     "output_type": "execute_result"
    }
   ],
   "source": [
    "# make a new Column to the DataFrames\n",
    "df_train[\"TextLen\"] = text_len\n",
    "df_val[\"TextLen\"] = text_len_val\n",
    "df_train.head()"
   ]
  },
  {
   "cell_type": "code",
   "execution_count": 17,
   "metadata": {},
   "outputs": [
    {
     "name": "stdout",
     "output_type": "stream",
     "text": [
      "Len Original Dataframe: 69768\n",
      "Len DataFrame with Less 4 Words: 5015\n"
     ]
    },
    {
     "data": {
      "text/html": [
       "<div>\n",
       "<style scoped>\n",
       "    .dataframe tbody tr th:only-of-type {\n",
       "        vertical-align: middle;\n",
       "    }\n",
       "\n",
       "    .dataframe tbody tr th {\n",
       "        vertical-align: top;\n",
       "    }\n",
       "\n",
       "    .dataframe thead th {\n",
       "        text-align: right;\n",
       "    }\n",
       "</style>\n",
       "<table border=\"1\" class=\"dataframe\">\n",
       "  <thead>\n",
       "    <tr style=\"text-align: right;\">\n",
       "      <th></th>\n",
       "      <th>Target</th>\n",
       "      <th>Text</th>\n",
       "      <th>TextClean</th>\n",
       "      <th>TextLen</th>\n",
       "    </tr>\n",
       "  </thead>\n",
       "  <tbody>\n",
       "    <tr>\n",
       "      <th>7013</th>\n",
       "      <td>Neutral</td>\n",
       "      <td>I'm WHEEZING</td>\n",
       "      <td>im wheezing</td>\n",
       "      <td>2</td>\n",
       "    </tr>\n",
       "    <tr>\n",
       "      <th>56075</th>\n",
       "      <td>Neutral</td>\n",
       "      <td>TKers smh</td>\n",
       "      <td>tkers smh</td>\n",
       "      <td>2</td>\n",
       "    </tr>\n",
       "    <tr>\n",
       "      <th>69279</th>\n",
       "      <td>Positive</td>\n",
       "      <td>I wow</td>\n",
       "      <td>i wow</td>\n",
       "      <td>2</td>\n",
       "    </tr>\n",
       "    <tr>\n",
       "      <th>18419</th>\n",
       "      <td>Positive</td>\n",
       "      <td>let’s gooooo 🤩</td>\n",
       "      <td>lets gooooo</td>\n",
       "      <td>2</td>\n",
       "    </tr>\n",
       "    <tr>\n",
       "      <th>1266</th>\n",
       "      <td>Positive</td>\n",
       "      <td>Love him.</td>\n",
       "      <td>love him</td>\n",
       "      <td>2</td>\n",
       "    </tr>\n",
       "  </tbody>\n",
       "</table>\n",
       "</div>"
      ],
      "text/plain": [
       "         Target            Text    TextClean  TextLen\n",
       "7013    Neutral    I'm WHEEZING  im wheezing        2\n",
       "56075   Neutral     TKers smh      tkers smh        2\n",
       "69279  Positive           I wow        i wow        2\n",
       "18419  Positive  let’s gooooo 🤩  lets gooooo        2\n",
       "1266   Positive       Love him.     love him        2"
      ]
     },
     "execution_count": 17,
     "metadata": {},
     "output_type": "execute_result"
    }
   ],
   "source": [
    "# get training tweets with less than 4 words\n",
    "data_less_10_words = df_train[df_train[\"TextLen\"] < 4]\n",
    "print(\n",
    "    f\"Len Original Dataframe: {len(df_train)}\\nLen DataFrame with Less 4 Words: {len(data_less_10_words)}\"\n",
    ")\n",
    "data_less_10_words.head()"
   ]
  },
  {
   "cell_type": "code",
   "execution_count": 18,
   "metadata": {},
   "outputs": [
    {
     "name": "stdout",
     "output_type": "stream",
     "text": [
      "Len Original Dataframe: 998\n",
      "Len DataFrame with Less 4 Words: 0\n"
     ]
    },
    {
     "data": {
      "text/html": [
       "<div>\n",
       "<style scoped>\n",
       "    .dataframe tbody tr th:only-of-type {\n",
       "        vertical-align: middle;\n",
       "    }\n",
       "\n",
       "    .dataframe tbody tr th {\n",
       "        vertical-align: top;\n",
       "    }\n",
       "\n",
       "    .dataframe thead th {\n",
       "        text-align: right;\n",
       "    }\n",
       "</style>\n",
       "<table border=\"1\" class=\"dataframe\">\n",
       "  <thead>\n",
       "    <tr style=\"text-align: right;\">\n",
       "      <th></th>\n",
       "      <th>Target</th>\n",
       "      <th>Text</th>\n",
       "      <th>TextClean</th>\n",
       "      <th>TextLen</th>\n",
       "    </tr>\n",
       "  </thead>\n",
       "  <tbody>\n",
       "  </tbody>\n",
       "</table>\n",
       "</div>"
      ],
      "text/plain": [
       "Empty DataFrame\n",
       "Columns: [Target, Text, TextClean, TextLen]\n",
       "Index: []"
      ]
     },
     "execution_count": 18,
     "metadata": {},
     "output_type": "execute_result"
    }
   ],
   "source": [
    "# get validation tweets with less than 4 words\n",
    "data_less_10_words_val = df_val[df_val[\"TextLen\"] < 4]\n",
    "print(\n",
    "    f\"Len Original Dataframe: {len(df_val)}\\nLen DataFrame with Less 4 Words: {len(data_less_10_words_val)}\"\n",
    ")\n",
    "data_less_10_words_val.head()"
   ]
  },
  {
   "cell_type": "code",
   "execution_count": 19,
   "metadata": {},
   "outputs": [
    {
     "name": "stdout",
     "output_type": "stream",
     "text": [
      "Len Cleaner Train DataFrame: 62340\n"
     ]
    }
   ],
   "source": [
    "# new train DataFrame with Tweets more than 4 words\n",
    "df_train = df_train[df_train[\"TextLen\"] > 4]\n",
    "print(f\"Len Cleaner Train DataFrame: {len(df_train)}\")"
   ]
  },
  {
   "cell_type": "code",
   "execution_count": 20,
   "metadata": {},
   "outputs": [
    {
     "data": {
      "text/html": [
       "<div>\n",
       "<style scoped>\n",
       "    .dataframe tbody tr th:only-of-type {\n",
       "        vertical-align: middle;\n",
       "    }\n",
       "\n",
       "    .dataframe tbody tr th {\n",
       "        vertical-align: top;\n",
       "    }\n",
       "\n",
       "    .dataframe thead th {\n",
       "        text-align: right;\n",
       "    }\n",
       "</style>\n",
       "<table border=\"1\" class=\"dataframe\">\n",
       "  <thead>\n",
       "    <tr style=\"text-align: right;\">\n",
       "      <th></th>\n",
       "      <th>Target</th>\n",
       "      <th>Text</th>\n",
       "      <th>TextClean</th>\n",
       "      <th>TextLen</th>\n",
       "    </tr>\n",
       "  </thead>\n",
       "  <tbody>\n",
       "    <tr>\n",
       "      <th>39301</th>\n",
       "      <td>Negative</td>\n",
       "      <td>@ PlayHearthstone On the mobile version I only...</td>\n",
       "      <td>playhearthstone on the mobile version i only g...</td>\n",
       "      <td>53</td>\n",
       "    </tr>\n",
       "    <tr>\n",
       "      <th>19663</th>\n",
       "      <td>Irrelevant</td>\n",
       "      <td>Happy birthday, my # 1 extension!</td>\n",
       "      <td>happy birthday my 1 extension</td>\n",
       "      <td>5</td>\n",
       "    </tr>\n",
       "    <tr>\n",
       "      <th>5161</th>\n",
       "      <td>Negative</td>\n",
       "      <td>So apparently Fred Perry takes off the Proud B...</td>\n",
       "      <td>so apparently fred perry takes off the proud b...</td>\n",
       "      <td>20</td>\n",
       "    </tr>\n",
       "    <tr>\n",
       "      <th>38735</th>\n",
       "      <td>Irrelevant</td>\n",
       "      <td>@christineexists my bestie @hearthstone_d and ...</td>\n",
       "      <td>my bestie and i are reading the devouring grey...</td>\n",
       "      <td>36</td>\n",
       "    </tr>\n",
       "    <tr>\n",
       "      <th>20387</th>\n",
       "      <td>Positive</td>\n",
       "      <td>Important research and so fascinating! .</td>\n",
       "      <td>important research and so fascinating</td>\n",
       "      <td>5</td>\n",
       "    </tr>\n",
       "  </tbody>\n",
       "</table>\n",
       "</div>"
      ],
      "text/plain": [
       "           Target                                               Text  \\\n",
       "39301    Negative  @ PlayHearthstone On the mobile version I only...   \n",
       "19663  Irrelevant                  Happy birthday, my # 1 extension!   \n",
       "5161     Negative  So apparently Fred Perry takes off the Proud B...   \n",
       "38735  Irrelevant  @christineexists my bestie @hearthstone_d and ...   \n",
       "20387    Positive          Important research and so fascinating! .    \n",
       "\n",
       "                                               TextClean  TextLen  \n",
       "39301  playhearthstone on the mobile version i only g...       53  \n",
       "19663                      happy birthday my 1 extension        5  \n",
       "5161   so apparently fred perry takes off the proud b...       20  \n",
       "38735  my bestie and i are reading the devouring grey...       36  \n",
       "20387              important research and so fascinating        5  "
      ]
     },
     "execution_count": 20,
     "metadata": {},
     "output_type": "execute_result"
    }
   ],
   "source": [
    "df_train.head()"
   ]
  },
  {
   "cell_type": "code",
   "execution_count": 21,
   "metadata": {},
   "outputs": [],
   "source": [
    "# Roberta Tokenizer\n",
    "tokenizer = RobertaTokenizerFast.from_pretrained(\"roberta-base\")"
   ]
  },
  {
   "cell_type": "code",
   "execution_count": 22,
   "metadata": {},
   "outputs": [
    {
     "name": "stdout",
     "output_type": "stream",
     "text": [
      "Max Token Len: 200\n",
      "Mean Tokens Len: 27.266971446904073\n"
     ]
    }
   ],
   "source": [
    "# get Token Lengths from Training Tweets\n",
    "token_lens = []\n",
    "\n",
    "for text in df_train[\"TextClean\"].values:\n",
    "    tokens = tokenizer.encode(text, max_length=512, truncation=True)\n",
    "    token_lens.append(len(tokens))\n",
    "\n",
    "print(f\"Max Token Len: {np.max(token_lens)}\")\n",
    "print(f\"Mean Tokens Len: {np.mean(token_lens)}\")"
   ]
  },
  {
   "cell_type": "code",
   "execution_count": 23,
   "metadata": {},
   "outputs": [
    {
     "data": {
      "text/html": [
       "<div>\n",
       "<style scoped>\n",
       "    .dataframe tbody tr th:only-of-type {\n",
       "        vertical-align: middle;\n",
       "    }\n",
       "\n",
       "    .dataframe tbody tr th {\n",
       "        vertical-align: top;\n",
       "    }\n",
       "\n",
       "    .dataframe thead th {\n",
       "        text-align: right;\n",
       "    }\n",
       "</style>\n",
       "<table border=\"1\" class=\"dataframe\">\n",
       "  <thead>\n",
       "    <tr style=\"text-align: right;\">\n",
       "      <th></th>\n",
       "      <th>Target</th>\n",
       "      <th>Text</th>\n",
       "      <th>TextClean</th>\n",
       "      <th>TextLen</th>\n",
       "      <th>TokenLen</th>\n",
       "    </tr>\n",
       "  </thead>\n",
       "  <tbody>\n",
       "    <tr>\n",
       "      <th>43849</th>\n",
       "      <td>Irrelevant</td>\n",
       "      <td>It's the birthday of toga gggggggggggggggggggg...</td>\n",
       "      <td>its the birthday of toga ggggggggggggggggggggg...</td>\n",
       "      <td>6</td>\n",
       "      <td>200</td>\n",
       "    </tr>\n",
       "    <tr>\n",
       "      <th>18127</th>\n",
       "      <td>Positive</td>\n",
       "      <td>Italy, Italy, Italy, Italy, Italy, Italy, Ital...</td>\n",
       "      <td>italy italy italy italy italy italy italy ital...</td>\n",
       "      <td>99</td>\n",
       "      <td>200</td>\n",
       "    </tr>\n",
       "    <tr>\n",
       "      <th>10255</th>\n",
       "      <td>Neutral</td>\n",
       "      <td>Italy, Italy, Italy, Italy, Italy, Italy, Ital...</td>\n",
       "      <td>italy italy italy italy italy italy italy ital...</td>\n",
       "      <td>99</td>\n",
       "      <td>200</td>\n",
       "    </tr>\n",
       "    <tr>\n",
       "      <th>3967</th>\n",
       "      <td>Irrelevant</td>\n",
       "      <td>Italy, Italy, Italy, Italy, Italy, Italy, Ital...</td>\n",
       "      <td>italy italy italy italy italy italy italy ital...</td>\n",
       "      <td>99</td>\n",
       "      <td>200</td>\n",
       "    </tr>\n",
       "    <tr>\n",
       "      <th>3097</th>\n",
       "      <td>Negative</td>\n",
       "      <td>Italy, Italy, Italy, Italy, Italy, Italy, Ital...</td>\n",
       "      <td>italy italy italy italy italy italy italy ital...</td>\n",
       "      <td>99</td>\n",
       "      <td>200</td>\n",
       "    </tr>\n",
       "    <tr>\n",
       "      <th>28993</th>\n",
       "      <td>Negative</td>\n",
       "      <td>At the same time, there are many low-income co...</td>\n",
       "      <td>at the same time there are many lowincome coun...</td>\n",
       "      <td>106</td>\n",
       "      <td>196</td>\n",
       "    </tr>\n",
       "    <tr>\n",
       "      <th>8545</th>\n",
       "      <td>Positive</td>\n",
       "      <td>I REALLY HAVE THE OVERWATCH RN GAME. SEA SEA S...</td>\n",
       "      <td>i really have the overwatch rn game sea sea se...</td>\n",
       "      <td>166</td>\n",
       "      <td>170</td>\n",
       "    </tr>\n",
       "    <tr>\n",
       "      <th>42463</th>\n",
       "      <td>Irrelevant</td>\n",
       "      <td>PUBG: Purple Invincible Babaaa aa aa aa aa aa ...</td>\n",
       "      <td>pubg purple invincible babaaa aa aa aa aa aa a...</td>\n",
       "      <td>84</td>\n",
       "      <td>168</td>\n",
       "    </tr>\n",
       "    <tr>\n",
       "      <th>70939</th>\n",
       "      <td>Neutral</td>\n",
       "      <td>The event dedicated to Victory Day in the Grea...</td>\n",
       "      <td>the event dedicated to victory day in the grea...</td>\n",
       "      <td>150</td>\n",
       "      <td>154</td>\n",
       "    </tr>\n",
       "    <tr>\n",
       "      <th>39409</th>\n",
       "      <td>Neutral</td>\n",
       "      <td>KUZ YU VENT PUO. LOCK PHART FANG FANG FANG FAN...</td>\n",
       "      <td>kuz yu vent puo lock phart fang fang fang fang...</td>\n",
       "      <td>67</td>\n",
       "      <td>133</td>\n",
       "    </tr>\n",
       "    <tr>\n",
       "      <th>57361</th>\n",
       "      <td>Neutral</td>\n",
       "      <td>.... mixer.com / makavelincheese or makavelinc...</td>\n",
       "      <td>mixercom makavelincheese or makavelincheese sh...</td>\n",
       "      <td>35</td>\n",
       "      <td>107</td>\n",
       "    </tr>\n",
       "    <tr>\n",
       "      <th>32593</th>\n",
       "      <td>Positive</td>\n",
       "      <td>playing in 0.3% league tile Clothing is SO enj...</td>\n",
       "      <td>playing in 03 league tile clothing is so enjoy...</td>\n",
       "      <td>105</td>\n",
       "      <td>107</td>\n",
       "    </tr>\n",
       "    <tr>\n",
       "      <th>14695</th>\n",
       "      <td>Irrelevant</td>\n",
       "      <td>I did this trick a couple of months ago hahaha...</td>\n",
       "      <td>i did this trick a couple of months ago hahaha...</td>\n",
       "      <td>10</td>\n",
       "      <td>107</td>\n",
       "    </tr>\n",
       "    <tr>\n",
       "      <th>21637</th>\n",
       "      <td>Irrelevant</td>\n",
       "      <td>@ YouTubeCreators. @ YouTubeCreators. @ CarryM...</td>\n",
       "      <td>youtubecreators youtubecreators carryminati yo...</td>\n",
       "      <td>25</td>\n",
       "      <td>103</td>\n",
       "    </tr>\n",
       "    <tr>\n",
       "      <th>7393</th>\n",
       "      <td>Positive</td>\n",
       "      <td>I knew that the LMEPA PA PA PA PA PA PA PA PA ...</td>\n",
       "      <td>i knew that the lmepa pa pa pa pa pa pa pa pa ...</td>\n",
       "      <td>97</td>\n",
       "      <td>102</td>\n",
       "    </tr>\n",
       "    <tr>\n",
       "      <th>30349</th>\n",
       "      <td>Irrelevant</td>\n",
       "      <td>Yassuo scores Perfect Example of High Level Tr...</td>\n",
       "      <td>yassuo scores perfect example of high level tr...</td>\n",
       "      <td>72</td>\n",
       "      <td>100</td>\n",
       "    </tr>\n",
       "    <tr>\n",
       "      <th>60819</th>\n",
       "      <td>Irrelevant</td>\n",
       "      <td>Leaked out FIFA FIFA 21 GTA 6 gameplay. open t...</td>\n",
       "      <td>leaked out fifa fifa 21 gta 6 gameplay open th...</td>\n",
       "      <td>57</td>\n",
       "      <td>100</td>\n",
       "    </tr>\n",
       "    <tr>\n",
       "      <th>50511</th>\n",
       "      <td>Negative</td>\n",
       "      <td>she Leaked FIFA 21 GTA 6 gameplay. open the li...</td>\n",
       "      <td>she leaked fifa 21 gta 6 gameplay open the lin...</td>\n",
       "      <td>57</td>\n",
       "      <td>99</td>\n",
       "    </tr>\n",
       "    <tr>\n",
       "      <th>73041</th>\n",
       "      <td>Neutral</td>\n",
       "      <td>Amazing good deal for you!.. Acer 6 Nitro 5 Ya...</td>\n",
       "      <td>amazing good deal for you acer 6 nitro 5 yamah...</td>\n",
       "      <td>60</td>\n",
       "      <td>92</td>\n",
       "    </tr>\n",
       "    <tr>\n",
       "      <th>34767</th>\n",
       "      <td>Positive</td>\n",
       "      <td>@AppStore plz unban fortnite I always love app...</td>\n",
       "      <td>plz unban fortnite i always love apple product...</td>\n",
       "      <td>68</td>\n",
       "      <td>91</td>\n",
       "    </tr>\n",
       "    <tr>\n",
       "      <th>73887</th>\n",
       "      <td>Neutral</td>\n",
       "      <td>HP HP ENVY x360 15.6\". screen. 12 GB DDR3L, 25...</td>\n",
       "      <td>hp hp envy x360 156 screen 12 gb ddr3l 256ssd ...</td>\n",
       "      <td>51</td>\n",
       "      <td>90</td>\n",
       "    </tr>\n",
       "    <tr>\n",
       "      <th>39360</th>\n",
       "      <td>Neutral</td>\n",
       "      <td>AEL Uni Cup East Group. R1 Bye. R2 WLW. R3 WW....</td>\n",
       "      <td>ael uni cup east group r1 bye r2 wlw r3 ww win...</td>\n",
       "      <td>48</td>\n",
       "      <td>90</td>\n",
       "    </tr>\n",
       "    <tr>\n",
       "      <th>73500</th>\n",
       "      <td>Neutral</td>\n",
       "      <td>Increased performance requires the right data....</td>\n",
       "      <td>increased performance requires the right data ...</td>\n",
       "      <td>39</td>\n",
       "      <td>89</td>\n",
       "    </tr>\n",
       "    <tr>\n",
       "      <th>39363</th>\n",
       "      <td>Neutral</td>\n",
       "      <td>2006 AEL Uni Cup East Group. R1 Bye. R2 WLW. R...</td>\n",
       "      <td>2006 ael uni cup east group r1 bye r2 wlw r3 w...</td>\n",
       "      <td>47</td>\n",
       "      <td>89</td>\n",
       "    </tr>\n",
       "    <tr>\n",
       "      <th>73883</th>\n",
       "      <td>Neutral</td>\n",
       "      <td>HP ENVY x360 15.6\". screen. 12 GB DDR3L, 256ss...</td>\n",
       "      <td>hp envy x360 156 screen 12 gb ddr3l 256ssd cor...</td>\n",
       "      <td>50</td>\n",
       "      <td>89</td>\n",
       "    </tr>\n",
       "    <tr>\n",
       "      <th>723</th>\n",
       "      <td>Positive</td>\n",
       "      <td>Watching You Jimmy Kalloori Perfect Situation ...</td>\n",
       "      <td>watching you jimmy kalloori perfect situation ...</td>\n",
       "      <td>52</td>\n",
       "      <td>89</td>\n",
       "    </tr>\n",
       "    <tr>\n",
       "      <th>74107</th>\n",
       "      <td>Neutral</td>\n",
       "      <td>Nvidia X 3080 cards sell for thousands on eBay...</td>\n",
       "      <td>nvidia x 3080 cards sell for thousands on ebay...</td>\n",
       "      <td>61</td>\n",
       "      <td>88</td>\n",
       "    </tr>\n",
       "    <tr>\n",
       "      <th>60818</th>\n",
       "      <td>Irrelevant</td>\n",
       "      <td>Leaked FIFA 21 GTA 2017 gameplay. open the arc...</td>\n",
       "      <td>leaked fifa 21 gta 2017 gameplay open the arch...</td>\n",
       "      <td>45</td>\n",
       "      <td>88</td>\n",
       "    </tr>\n",
       "    <tr>\n",
       "      <th>73884</th>\n",
       "      <td>Neutral</td>\n",
       "      <td>HP ENVY x360 15.6. \"Screen. 12GB DDR3L, 256ssd...</td>\n",
       "      <td>hp envy x360 156 screen 12gb ddr3l 256ssd core...</td>\n",
       "      <td>52</td>\n",
       "      <td>87</td>\n",
       "    </tr>\n",
       "    <tr>\n",
       "      <th>39362</th>\n",
       "      <td>Neutral</td>\n",
       "      <td>AEL Uni Cup East Group. R1 Bye. R2 WLW. R3 WW....</td>\n",
       "      <td>ael uni cup east group r1 bye r2 wlw r3 ww win...</td>\n",
       "      <td>46</td>\n",
       "      <td>87</td>\n",
       "    </tr>\n",
       "  </tbody>\n",
       "</table>\n",
       "</div>"
      ],
      "text/plain": [
       "           Target                                               Text  \\\n",
       "43849  Irrelevant  It's the birthday of toga gggggggggggggggggggg...   \n",
       "18127    Positive  Italy, Italy, Italy, Italy, Italy, Italy, Ital...   \n",
       "10255     Neutral  Italy, Italy, Italy, Italy, Italy, Italy, Ital...   \n",
       "3967   Irrelevant  Italy, Italy, Italy, Italy, Italy, Italy, Ital...   \n",
       "3097     Negative  Italy, Italy, Italy, Italy, Italy, Italy, Ital...   \n",
       "28993    Negative  At the same time, there are many low-income co...   \n",
       "8545     Positive  I REALLY HAVE THE OVERWATCH RN GAME. SEA SEA S...   \n",
       "42463  Irrelevant  PUBG: Purple Invincible Babaaa aa aa aa aa aa ...   \n",
       "70939     Neutral  The event dedicated to Victory Day in the Grea...   \n",
       "39409     Neutral  KUZ YU VENT PUO. LOCK PHART FANG FANG FANG FAN...   \n",
       "57361     Neutral  .... mixer.com / makavelincheese or makavelinc...   \n",
       "32593    Positive  playing in 0.3% league tile Clothing is SO enj...   \n",
       "14695  Irrelevant  I did this trick a couple of months ago hahaha...   \n",
       "21637  Irrelevant  @ YouTubeCreators. @ YouTubeCreators. @ CarryM...   \n",
       "7393     Positive  I knew that the LMEPA PA PA PA PA PA PA PA PA ...   \n",
       "30349  Irrelevant  Yassuo scores Perfect Example of High Level Tr...   \n",
       "60819  Irrelevant  Leaked out FIFA FIFA 21 GTA 6 gameplay. open t...   \n",
       "50511    Negative  she Leaked FIFA 21 GTA 6 gameplay. open the li...   \n",
       "73041     Neutral  Amazing good deal for you!.. Acer 6 Nitro 5 Ya...   \n",
       "34767    Positive  @AppStore plz unban fortnite I always love app...   \n",
       "73887     Neutral  HP HP ENVY x360 15.6\". screen. 12 GB DDR3L, 25...   \n",
       "39360     Neutral  AEL Uni Cup East Group. R1 Bye. R2 WLW. R3 WW....   \n",
       "73500     Neutral  Increased performance requires the right data....   \n",
       "39363     Neutral  2006 AEL Uni Cup East Group. R1 Bye. R2 WLW. R...   \n",
       "73883     Neutral  HP ENVY x360 15.6\". screen. 12 GB DDR3L, 256ss...   \n",
       "723      Positive  Watching You Jimmy Kalloori Perfect Situation ...   \n",
       "74107     Neutral  Nvidia X 3080 cards sell for thousands on eBay...   \n",
       "60818  Irrelevant  Leaked FIFA 21 GTA 2017 gameplay. open the arc...   \n",
       "73884     Neutral  HP ENVY x360 15.6. \"Screen. 12GB DDR3L, 256ssd...   \n",
       "39362     Neutral  AEL Uni Cup East Group. R1 Bye. R2 WLW. R3 WW....   \n",
       "\n",
       "                                               TextClean  TextLen  TokenLen  \n",
       "43849  its the birthday of toga ggggggggggggggggggggg...        6       200  \n",
       "18127  italy italy italy italy italy italy italy ital...       99       200  \n",
       "10255  italy italy italy italy italy italy italy ital...       99       200  \n",
       "3967   italy italy italy italy italy italy italy ital...       99       200  \n",
       "3097   italy italy italy italy italy italy italy ital...       99       200  \n",
       "28993  at the same time there are many lowincome coun...      106       196  \n",
       "8545   i really have the overwatch rn game sea sea se...      166       170  \n",
       "42463  pubg purple invincible babaaa aa aa aa aa aa a...       84       168  \n",
       "70939  the event dedicated to victory day in the grea...      150       154  \n",
       "39409  kuz yu vent puo lock phart fang fang fang fang...       67       133  \n",
       "57361  mixercom makavelincheese or makavelincheese sh...       35       107  \n",
       "32593  playing in 03 league tile clothing is so enjoy...      105       107  \n",
       "14695  i did this trick a couple of months ago hahaha...       10       107  \n",
       "21637  youtubecreators youtubecreators carryminati yo...       25       103  \n",
       "7393   i knew that the lmepa pa pa pa pa pa pa pa pa ...       97       102  \n",
       "30349  yassuo scores perfect example of high level tr...       72       100  \n",
       "60819  leaked out fifa fifa 21 gta 6 gameplay open th...       57       100  \n",
       "50511  she leaked fifa 21 gta 6 gameplay open the lin...       57        99  \n",
       "73041  amazing good deal for you acer 6 nitro 5 yamah...       60        92  \n",
       "34767  plz unban fortnite i always love apple product...       68        91  \n",
       "73887  hp hp envy x360 156 screen 12 gb ddr3l 256ssd ...       51        90  \n",
       "39360  ael uni cup east group r1 bye r2 wlw r3 ww win...       48        90  \n",
       "73500  increased performance requires the right data ...       39        89  \n",
       "39363  2006 ael uni cup east group r1 bye r2 wlw r3 w...       47        89  \n",
       "73883  hp envy x360 156 screen 12 gb ddr3l 256ssd cor...       50        89  \n",
       "723    watching you jimmy kalloori perfect situation ...       52        89  \n",
       "74107  nvidia x 3080 cards sell for thousands on ebay...       61        88  \n",
       "60818  leaked fifa 21 gta 2017 gameplay open the arch...       45        88  \n",
       "73884  hp envy x360 156 screen 12gb ddr3l 256ssd core...       52        87  \n",
       "39362  ael uni cup east group r1 bye r2 wlw r3 ww win...       46        87  "
      ]
     },
     "execution_count": 23,
     "metadata": {},
     "output_type": "execute_result"
    }
   ],
   "source": [
    "# sort Token Lens (most tokens at head)\n",
    "df_train[\"TokenLen\"] = token_lens\n",
    "df_train = df_train.sort_values(by=\"TokenLen\", ascending=False)\n",
    "df_train.head(30)"
   ]
  },
  {
   "cell_type": "code",
   "execution_count": 24,
   "metadata": {},
   "outputs": [
    {
     "data": {
      "text/html": [
       "<div>\n",
       "<style scoped>\n",
       "    .dataframe tbody tr th:only-of-type {\n",
       "        vertical-align: middle;\n",
       "    }\n",
       "\n",
       "    .dataframe tbody tr th {\n",
       "        vertical-align: top;\n",
       "    }\n",
       "\n",
       "    .dataframe thead th {\n",
       "        text-align: right;\n",
       "    }\n",
       "</style>\n",
       "<table border=\"1\" class=\"dataframe\">\n",
       "  <thead>\n",
       "    <tr style=\"text-align: right;\">\n",
       "      <th></th>\n",
       "      <th>Target</th>\n",
       "      <th>Text</th>\n",
       "      <th>TextClean</th>\n",
       "      <th>TextLen</th>\n",
       "      <th>TokenLen</th>\n",
       "    </tr>\n",
       "  </thead>\n",
       "  <tbody>\n",
       "    <tr>\n",
       "      <th>30349</th>\n",
       "      <td>Irrelevant</td>\n",
       "      <td>Yassuo scores Perfect Example of High Level Tr...</td>\n",
       "      <td>yassuo scores perfect example of high level tr...</td>\n",
       "      <td>72</td>\n",
       "      <td>100</td>\n",
       "    </tr>\n",
       "    <tr>\n",
       "      <th>60819</th>\n",
       "      <td>Irrelevant</td>\n",
       "      <td>Leaked out FIFA FIFA 21 GTA 6 gameplay. open t...</td>\n",
       "      <td>leaked out fifa fifa 21 gta 6 gameplay open th...</td>\n",
       "      <td>57</td>\n",
       "      <td>100</td>\n",
       "    </tr>\n",
       "    <tr>\n",
       "      <th>50511</th>\n",
       "      <td>Negative</td>\n",
       "      <td>she Leaked FIFA 21 GTA 6 gameplay. open the li...</td>\n",
       "      <td>she leaked fifa 21 gta 6 gameplay open the lin...</td>\n",
       "      <td>57</td>\n",
       "      <td>99</td>\n",
       "    </tr>\n",
       "    <tr>\n",
       "      <th>73041</th>\n",
       "      <td>Neutral</td>\n",
       "      <td>Amazing good deal for you!.. Acer 6 Nitro 5 Ya...</td>\n",
       "      <td>amazing good deal for you acer 6 nitro 5 yamah...</td>\n",
       "      <td>60</td>\n",
       "      <td>92</td>\n",
       "    </tr>\n",
       "    <tr>\n",
       "      <th>34767</th>\n",
       "      <td>Positive</td>\n",
       "      <td>@AppStore plz unban fortnite I always love app...</td>\n",
       "      <td>plz unban fortnite i always love apple product...</td>\n",
       "      <td>68</td>\n",
       "      <td>91</td>\n",
       "    </tr>\n",
       "  </tbody>\n",
       "</table>\n",
       "</div>"
      ],
      "text/plain": [
       "           Target                                               Text  \\\n",
       "30349  Irrelevant  Yassuo scores Perfect Example of High Level Tr...   \n",
       "60819  Irrelevant  Leaked out FIFA FIFA 21 GTA 6 gameplay. open t...   \n",
       "50511    Negative  she Leaked FIFA 21 GTA 6 gameplay. open the li...   \n",
       "73041     Neutral  Amazing good deal for you!.. Acer 6 Nitro 5 Ya...   \n",
       "34767    Positive  @AppStore plz unban fortnite I always love app...   \n",
       "\n",
       "                                               TextClean  TextLen  TokenLen  \n",
       "30349  yassuo scores perfect example of high level tr...       72       100  \n",
       "60819  leaked out fifa fifa 21 gta 6 gameplay open th...       57       100  \n",
       "50511  she leaked fifa 21 gta 6 gameplay open the lin...       57        99  \n",
       "73041  amazing good deal for you acer 6 nitro 5 yamah...       60        92  \n",
       "34767  plz unban fortnite i always love apple product...       68        91  "
      ]
     },
     "execution_count": 24,
     "metadata": {},
     "output_type": "execute_result"
    }
   ],
   "source": [
    "# new DataFrame without top 15 Rows (balancing between token lengths)\n",
    "df_train = df_train.iloc[15:]\n",
    "df_train.head()"
   ]
  },
  {
   "cell_type": "code",
   "execution_count": 25,
   "metadata": {},
   "outputs": [
    {
     "name": "stdout",
     "output_type": "stream",
     "text": [
      "Max Token Len: 87\n",
      "Mean Tokens Len: 29.18436873747495\n"
     ]
    }
   ],
   "source": [
    "# get Token Lengths from Validation Tweets\n",
    "tokens_lens_val = []\n",
    "\n",
    "for text in df_val[\"TextClean\"]:\n",
    "    tokens = tokenizer.encode(text, max_length=512, truncation=True)\n",
    "    tokens_lens_val.append(len(tokens))\n",
    "\n",
    "print(f\"Max Token Len: {np.max(tokens_lens_val)}\")\n",
    "print(f\"Mean Tokens Len: {np.mean(tokens_lens_val)}\")"
   ]
  },
  {
   "cell_type": "code",
   "execution_count": 26,
   "metadata": {},
   "outputs": [
    {
     "data": {
      "text/html": [
       "<div>\n",
       "<style scoped>\n",
       "    .dataframe tbody tr th:only-of-type {\n",
       "        vertical-align: middle;\n",
       "    }\n",
       "\n",
       "    .dataframe tbody tr th {\n",
       "        vertical-align: top;\n",
       "    }\n",
       "\n",
       "    .dataframe thead th {\n",
       "        text-align: right;\n",
       "    }\n",
       "</style>\n",
       "<table border=\"1\" class=\"dataframe\">\n",
       "  <thead>\n",
       "    <tr style=\"text-align: right;\">\n",
       "      <th></th>\n",
       "      <th>Target</th>\n",
       "      <th>Text</th>\n",
       "      <th>TextClean</th>\n",
       "      <th>TextLen</th>\n",
       "      <th>TokenLen</th>\n",
       "    </tr>\n",
       "  </thead>\n",
       "  <tbody>\n",
       "    <tr>\n",
       "      <th>462</th>\n",
       "      <td>Irrelevant</td>\n",
       "      <td>Leaked FIFA 21 GTA 6 gameplay\\nopen the link f...</td>\n",
       "      <td>leaked fifa 21 gta 6 gameplay open the link fo...</td>\n",
       "      <td>9</td>\n",
       "      <td>87</td>\n",
       "    </tr>\n",
       "    <tr>\n",
       "      <th>481</th>\n",
       "      <td>Positive</td>\n",
       "      <td>Nice to bow you\\n\\nThis my Creepypasta/Assassi...</td>\n",
       "      <td>nice to bow you this my creepypastaassassins c...</td>\n",
       "      <td>9</td>\n",
       "      <td>79</td>\n",
       "    </tr>\n",
       "    <tr>\n",
       "      <th>299</th>\n",
       "      <td>Irrelevant</td>\n",
       "      <td>HOW TO IMPRESS INDIAN GIRL\\nsahilyaduvanshi.in...</td>\n",
       "      <td>how to impress indian girl sahilyaduvanshiinlo...</td>\n",
       "      <td>9</td>\n",
       "      <td>78</td>\n",
       "    </tr>\n",
       "    <tr>\n",
       "      <th>169</th>\n",
       "      <td>Positive</td>\n",
       "      <td>Watching You Kalloori Perfect Situation Mystic...</td>\n",
       "      <td>watching you kalloori perfect situation mystic...</td>\n",
       "      <td>9</td>\n",
       "      <td>77</td>\n",
       "    </tr>\n",
       "    <tr>\n",
       "      <th>230</th>\n",
       "      <td>Irrelevant</td>\n",
       "      <td>We are pleased to announce the names of the re...</td>\n",
       "      <td>we are pleased to announce the names of the re...</td>\n",
       "      <td>9</td>\n",
       "      <td>75</td>\n",
       "    </tr>\n",
       "  </tbody>\n",
       "</table>\n",
       "</div>"
      ],
      "text/plain": [
       "         Target                                               Text  \\\n",
       "462  Irrelevant  Leaked FIFA 21 GTA 6 gameplay\\nopen the link f...   \n",
       "481    Positive  Nice to bow you\\n\\nThis my Creepypasta/Assassi...   \n",
       "299  Irrelevant  HOW TO IMPRESS INDIAN GIRL\\nsahilyaduvanshi.in...   \n",
       "169    Positive  Watching You Kalloori Perfect Situation Mystic...   \n",
       "230  Irrelevant  We are pleased to announce the names of the re...   \n",
       "\n",
       "                                             TextClean  TextLen  TokenLen  \n",
       "462  leaked fifa 21 gta 6 gameplay open the link fo...        9        87  \n",
       "481  nice to bow you this my creepypastaassassins c...        9        79  \n",
       "299  how to impress indian girl sahilyaduvanshiinlo...        9        78  \n",
       "169  watching you kalloori perfect situation mystic...        9        77  \n",
       "230  we are pleased to announce the names of the re...        9        75  "
      ]
     },
     "execution_count": 26,
     "metadata": {},
     "output_type": "execute_result"
    }
   ],
   "source": [
    "# sort Token Lens (most tokens at head)\n",
    "df_val[\"TokenLen\"] = tokens_lens_val\n",
    "df_val = df_val.sort_values(by=\"TokenLen\", ascending=False)\n",
    "df_val.head()"
   ]
  },
  {
   "cell_type": "code",
   "execution_count": 27,
   "metadata": {},
   "outputs": [
    {
     "data": {
      "text/html": [
       "<div>\n",
       "<style scoped>\n",
       "    .dataframe tbody tr th:only-of-type {\n",
       "        vertical-align: middle;\n",
       "    }\n",
       "\n",
       "    .dataframe tbody tr th {\n",
       "        vertical-align: top;\n",
       "    }\n",
       "\n",
       "    .dataframe thead th {\n",
       "        text-align: right;\n",
       "    }\n",
       "</style>\n",
       "<table border=\"1\" class=\"dataframe\">\n",
       "  <thead>\n",
       "    <tr style=\"text-align: right;\">\n",
       "      <th></th>\n",
       "      <th>Target</th>\n",
       "      <th>Text</th>\n",
       "      <th>TextClean</th>\n",
       "      <th>TextLen</th>\n",
       "      <th>TokenLen</th>\n",
       "    </tr>\n",
       "  </thead>\n",
       "  <tbody>\n",
       "    <tr>\n",
       "      <th>481</th>\n",
       "      <td>Positive</td>\n",
       "      <td>Nice to bow you\\n\\nThis my Creepypasta/Assassi...</td>\n",
       "      <td>nice to bow you this my creepypastaassassins c...</td>\n",
       "      <td>9</td>\n",
       "      <td>79</td>\n",
       "    </tr>\n",
       "    <tr>\n",
       "      <th>299</th>\n",
       "      <td>Irrelevant</td>\n",
       "      <td>HOW TO IMPRESS INDIAN GIRL\\nsahilyaduvanshi.in...</td>\n",
       "      <td>how to impress indian girl sahilyaduvanshiinlo...</td>\n",
       "      <td>9</td>\n",
       "      <td>78</td>\n",
       "    </tr>\n",
       "    <tr>\n",
       "      <th>169</th>\n",
       "      <td>Positive</td>\n",
       "      <td>Watching You Kalloori Perfect Situation Mystic...</td>\n",
       "      <td>watching you kalloori perfect situation mystic...</td>\n",
       "      <td>9</td>\n",
       "      <td>77</td>\n",
       "    </tr>\n",
       "    <tr>\n",
       "      <th>230</th>\n",
       "      <td>Irrelevant</td>\n",
       "      <td>We are pleased to announce the names of the re...</td>\n",
       "      <td>we are pleased to announce the names of the re...</td>\n",
       "      <td>9</td>\n",
       "      <td>75</td>\n",
       "    </tr>\n",
       "    <tr>\n",
       "      <th>518</th>\n",
       "      <td>Neutral</td>\n",
       "      <td>Dart Against Humanity Ep. 79 (S5 E4): The New ...</td>\n",
       "      <td>dart against humanity ep 79 s5 e4 the new not ...</td>\n",
       "      <td>9</td>\n",
       "      <td>74</td>\n",
       "    </tr>\n",
       "  </tbody>\n",
       "</table>\n",
       "</div>"
      ],
      "text/plain": [
       "         Target                                               Text  \\\n",
       "481    Positive  Nice to bow you\\n\\nThis my Creepypasta/Assassi...   \n",
       "299  Irrelevant  HOW TO IMPRESS INDIAN GIRL\\nsahilyaduvanshi.in...   \n",
       "169    Positive  Watching You Kalloori Perfect Situation Mystic...   \n",
       "230  Irrelevant  We are pleased to announce the names of the re...   \n",
       "518     Neutral  Dart Against Humanity Ep. 79 (S5 E4): The New ...   \n",
       "\n",
       "                                             TextClean  TextLen  TokenLen  \n",
       "481  nice to bow you this my creepypastaassassins c...        9        79  \n",
       "299  how to impress indian girl sahilyaduvanshiinlo...        9        78  \n",
       "169  watching you kalloori perfect situation mystic...        9        77  \n",
       "230  we are pleased to announce the names of the re...        9        75  \n",
       "518  dart against humanity ep 79 s5 e4 the new not ...        9        74  "
      ]
     },
     "execution_count": 27,
     "metadata": {},
     "output_type": "execute_result"
    }
   ],
   "source": [
    "# new DataFrame without top 1 Row (balancing between tweets lengths)\n",
    "df_val = df_val.iloc[1:]\n",
    "df_val.head()"
   ]
  },
  {
   "cell_type": "code",
   "execution_count": 28,
   "metadata": {},
   "outputs": [
    {
     "data": {
      "text/plain": [
       "Target\n",
       "1    26842\n",
       "0    18985\n",
       "2    16498\n",
       "Name: count, dtype: int64"
      ]
     },
     "execution_count": 28,
     "metadata": {},
     "output_type": "execute_result"
    }
   ],
   "source": [
    "# Make Target Column Numeric in Training DataFrame (Irrelevant == Neutral)\n",
    "df_train[\"Target\"] = df_train[\"Target\"].map(\n",
    "    {\"Negative\": 0, \"Neutral\": 1, \"Irrelevant\": 1, \"Positive\": 2}\n",
    ")\n",
    "df_train[\"Target\"].value_counts()"
   ]
  },
  {
   "cell_type": "code",
   "execution_count": 29,
   "metadata": {},
   "outputs": [
    {
     "data": {
      "text/plain": [
       "Target\n",
       "1    455\n",
       "2    276\n",
       "0    266\n",
       "Name: count, dtype: int64"
      ]
     },
     "execution_count": 29,
     "metadata": {},
     "output_type": "execute_result"
    }
   ],
   "source": [
    "# Make Target Column Numeric in Validation DataFrame (Irrelevant == Neutral)\n",
    "df_val[\"Target\"] = df_val[\"Target\"].map(\n",
    "    {\"Negative\": 0, \"Neutral\": 1, \"Irrelevant\": 1, \"Positive\": 2}\n",
    ")\n",
    "df_val[\"Target\"].value_counts()"
   ]
  },
  {
   "cell_type": "code",
   "execution_count": 30,
   "metadata": {},
   "outputs": [],
   "source": [
    "# helper function for plotting value counts\n",
    "def plot_value_counts(df: pd.DataFrame, title: str) -> None:\n",
    "    \"\"\"\n",
    "    Generates a bar plot for the distribution of values in the 'Target' column of a DataFrame. \n",
    "\n",
    "    Args:\n",
    "        df (pd.DataFrame): The DataFrame containing the 'Target' column whose value distribution is to be plotted.\n",
    "        title (str): The title for the plot, providing context or description about the plot.\n",
    "\n",
    "    Returns:\n",
    "        None: This function does not return anything. It displays the generated plot directly.\n",
    "    \"\"\"\n",
    "    df[\"Target\"].value_counts().plot(\n",
    "        kind=\"bar\",\n",
    "        figsize=(10, 5),\n",
    "        title=title,\n",
    "        ylabel=\"Values\",\n",
    "        xlabel=\"Targets [0: Negative, 1: Neutral, 2: Positive]\",\n",
    "    )\n",
    "    plt.show()"
   ]
  },
  {
   "cell_type": "code",
   "execution_count": 31,
   "metadata": {},
   "outputs": [
    {
     "data": {
      "image/png": "[encoded data removed]",
      "text/plain": [
       "<Figure size 1000x500 with 1 Axes>"
      ]
     },
     "metadata": {},
     "output_type": "display_data"
    },
    {
     "data": {
      "image/png": "[encoded data removed]",
      "text/plain": [
       "<Figure size 1000x500 with 1 Axes>"
      ]
     },
     "metadata": {},
     "output_type": "display_data"
    }
   ],
   "source": [
    "plot_value_counts(df=df_train, title=\"Tweets in Train DataFrame\")\n",
    "plot_value_counts(df=df_train, title=\"Tweets in Validation DataFrame\")"
   ]
  },
  {
   "cell_type": "code",
   "execution_count": 32,
   "metadata": {},
   "outputs": [],
   "source": [
    "# Balance the Tweets with RandomOverSampler (create Copies)\n",
    "ros = RandomOverSampler()\n",
    "\n",
    "x_clean_text = np.array(df_train[\"TextClean\"]).reshape(-1, 1)\n",
    "y_target = np.array(df_train[\"Target\"]).reshape(-1, 1)\n",
    "\n",
    "text_train, target_train = ros.fit_resample(x_clean_text, y_target)"
   ]
  },
  {
   "cell_type": "code",
   "execution_count": 33,
   "metadata": {},
   "outputs": [
    {
     "name": "stdout",
     "output_type": "stream",
     "text": [
      "Len Balanced DataFrame: 80526\n",
      "\n"
     ]
    },
    {
     "data": {
      "text/plain": [
       "Target\n",
       "1    26842\n",
       "0    26842\n",
       "2    26842\n",
       "Name: count, dtype: int64"
      ]
     },
     "execution_count": 33,
     "metadata": {},
     "output_type": "execute_result"
    }
   ],
   "source": [
    "train_data = list(zip([x[0] for x in text_train], target_train))\n",
    "\n",
    "# create balanced Training DataFrame\n",
    "balanced_df = pd.DataFrame(train_data, columns=[\"TextClean\", \"Target\"])\n",
    "print(f\"Len Balanced DataFrame: {len(balanced_df)}\\n\")\n",
    "balanced_df[\"Target\"].value_counts()"
   ]
  },
  {
   "cell_type": "code",
   "execution_count": 34,
   "metadata": {},
   "outputs": [
    {
     "data": {
      "image/png": "[encoded data removed]",
      "text/plain": [
       "<Figure size 1000x500 with 1 Axes>"
      ]
     },
     "metadata": {},
     "output_type": "display_data"
    }
   ],
   "source": [
    "plot_value_counts(df=balanced_df, title=\"Balanced Tweets\")"
   ]
  },
  {
   "cell_type": "code",
   "execution_count": 35,
   "metadata": {},
   "outputs": [
    {
     "data": {
      "text/html": [
       "<div>\n",
       "<style scoped>\n",
       "    .dataframe tbody tr th:only-of-type {\n",
       "        vertical-align: middle;\n",
       "    }\n",
       "\n",
       "    .dataframe tbody tr th {\n",
       "        vertical-align: top;\n",
       "    }\n",
       "\n",
       "    .dataframe thead th {\n",
       "        text-align: right;\n",
       "    }\n",
       "</style>\n",
       "<table border=\"1\" class=\"dataframe\">\n",
       "  <thead>\n",
       "    <tr style=\"text-align: right;\">\n",
       "      <th></th>\n",
       "      <th>TextClean</th>\n",
       "      <th>Target</th>\n",
       "    </tr>\n",
       "  </thead>\n",
       "  <tbody>\n",
       "    <tr>\n",
       "      <th>0</th>\n",
       "      <td>yassuo scores perfect example of high level tr...</td>\n",
       "      <td>1</td>\n",
       "    </tr>\n",
       "    <tr>\n",
       "      <th>1</th>\n",
       "      <td>leaked out fifa fifa 21 gta 6 gameplay open th...</td>\n",
       "      <td>1</td>\n",
       "    </tr>\n",
       "    <tr>\n",
       "      <th>2</th>\n",
       "      <td>she leaked fifa 21 gta 6 gameplay open the lin...</td>\n",
       "      <td>0</td>\n",
       "    </tr>\n",
       "    <tr>\n",
       "      <th>3</th>\n",
       "      <td>amazing good deal for you acer 6 nitro 5 yamah...</td>\n",
       "      <td>1</td>\n",
       "    </tr>\n",
       "    <tr>\n",
       "      <th>4</th>\n",
       "      <td>plz unban fortnite i always love apple product...</td>\n",
       "      <td>2</td>\n",
       "    </tr>\n",
       "  </tbody>\n",
       "</table>\n",
       "</div>"
      ],
      "text/plain": [
       "                                           TextClean  Target\n",
       "0  yassuo scores perfect example of high level tr...       1\n",
       "1  leaked out fifa fifa 21 gta 6 gameplay open th...       1\n",
       "2  she leaked fifa 21 gta 6 gameplay open the lin...       0\n",
       "3  amazing good deal for you acer 6 nitro 5 yamah...       1\n",
       "4  plz unban fortnite i always love apple product...       2"
      ]
     },
     "execution_count": 35,
     "metadata": {},
     "output_type": "execute_result"
    }
   ],
   "source": [
    "balanced_df.head()"
   ]
  },
  {
   "cell_type": "code",
   "execution_count": 36,
   "metadata": {},
   "outputs": [
    {
     "data": {
      "text/html": [
       "<div>\n",
       "<style scoped>\n",
       "    .dataframe tbody tr th:only-of-type {\n",
       "        vertical-align: middle;\n",
       "    }\n",
       "\n",
       "    .dataframe tbody tr th {\n",
       "        vertical-align: top;\n",
       "    }\n",
       "\n",
       "    .dataframe thead th {\n",
       "        text-align: right;\n",
       "    }\n",
       "</style>\n",
       "<table border=\"1\" class=\"dataframe\">\n",
       "  <thead>\n",
       "    <tr style=\"text-align: right;\">\n",
       "      <th></th>\n",
       "      <th>Target</th>\n",
       "      <th>Text</th>\n",
       "      <th>TextClean</th>\n",
       "      <th>TextLen</th>\n",
       "      <th>TokenLen</th>\n",
       "    </tr>\n",
       "  </thead>\n",
       "  <tbody>\n",
       "    <tr>\n",
       "      <th>481</th>\n",
       "      <td>2</td>\n",
       "      <td>Nice to bow you\\n\\nThis my Creepypasta/Assassi...</td>\n",
       "      <td>nice to bow you this my creepypastaassassins c...</td>\n",
       "      <td>9</td>\n",
       "      <td>79</td>\n",
       "    </tr>\n",
       "    <tr>\n",
       "      <th>299</th>\n",
       "      <td>1</td>\n",
       "      <td>HOW TO IMPRESS INDIAN GIRL\\nsahilyaduvanshi.in...</td>\n",
       "      <td>how to impress indian girl sahilyaduvanshiinlo...</td>\n",
       "      <td>9</td>\n",
       "      <td>78</td>\n",
       "    </tr>\n",
       "    <tr>\n",
       "      <th>169</th>\n",
       "      <td>2</td>\n",
       "      <td>Watching You Kalloori Perfect Situation Mystic...</td>\n",
       "      <td>watching you kalloori perfect situation mystic...</td>\n",
       "      <td>9</td>\n",
       "      <td>77</td>\n",
       "    </tr>\n",
       "    <tr>\n",
       "      <th>230</th>\n",
       "      <td>1</td>\n",
       "      <td>We are pleased to announce the names of the re...</td>\n",
       "      <td>we are pleased to announce the names of the re...</td>\n",
       "      <td>9</td>\n",
       "      <td>75</td>\n",
       "    </tr>\n",
       "    <tr>\n",
       "      <th>518</th>\n",
       "      <td>1</td>\n",
       "      <td>Dart Against Humanity Ep. 79 (S5 E4): The New ...</td>\n",
       "      <td>dart against humanity ep 79 s5 e4 the new not ...</td>\n",
       "      <td>9</td>\n",
       "      <td>74</td>\n",
       "    </tr>\n",
       "  </tbody>\n",
       "</table>\n",
       "</div>"
      ],
      "text/plain": [
       "     Target                                               Text  \\\n",
       "481       2  Nice to bow you\\n\\nThis my Creepypasta/Assassi...   \n",
       "299       1  HOW TO IMPRESS INDIAN GIRL\\nsahilyaduvanshi.in...   \n",
       "169       2  Watching You Kalloori Perfect Situation Mystic...   \n",
       "230       1  We are pleased to announce the names of the re...   \n",
       "518       1  Dart Against Humanity Ep. 79 (S5 E4): The New ...   \n",
       "\n",
       "                                             TextClean  TextLen  TokenLen  \n",
       "481  nice to bow you this my creepypastaassassins c...        9        79  \n",
       "299  how to impress indian girl sahilyaduvanshiinlo...        9        78  \n",
       "169  watching you kalloori perfect situation mystic...        9        77  \n",
       "230  we are pleased to announce the names of the re...        9        75  \n",
       "518  dart against humanity ep 79 s5 e4 the new not ...        9        74  "
      ]
     },
     "execution_count": 36,
     "metadata": {},
     "output_type": "execute_result"
    }
   ],
   "source": [
    "df_val.head()"
   ]
  },
  {
   "cell_type": "code",
   "execution_count": 37,
   "metadata": {},
   "outputs": [],
   "source": [
    "# Training und Validation Data\n",
    "X_train = balanced_df[\"TextClean\"].values\n",
    "y_train = balanced_df[\"Target\"].values\n",
    "\n",
    "X_val = df_val[\"TextClean\"].values\n",
    "y_val = df_val[\"Target\"].values"
   ]
  },
  {
   "cell_type": "code",
   "execution_count": 38,
   "metadata": {},
   "outputs": [],
   "source": [
    "# One Hot Encode the Labels\n",
    "ohe = OneHotEncoder()\n",
    "y_train = ohe.fit_transform(np.array(y_train).reshape(-1, 1)).toarray()\n",
    "y_val = ohe.fit_transform(np.array(y_val).reshape(-1, 1)).toarray()"
   ]
  },
  {
   "cell_type": "code",
   "execution_count": 39,
   "metadata": {},
   "outputs": [
    {
     "name": "stdout",
     "output_type": "stream",
     "text": [
      "Length Train: 80526\n",
      "Length Validation: 997\n"
     ]
    },
    {
     "data": {
      "text/plain": [
       "array([[0., 1., 0.],\n",
       "       [0., 1., 0.],\n",
       "       [1., 0., 0.],\n",
       "       [0., 1., 0.],\n",
       "       [0., 0., 1.],\n",
       "       [0., 1., 0.],\n",
       "       [0., 1., 0.],\n",
       "       [0., 1., 0.],\n",
       "       [0., 1., 0.],\n",
       "       [0., 1., 0.]])"
      ]
     },
     "execution_count": 39,
     "metadata": {},
     "output_type": "execute_result"
    }
   ],
   "source": [
    "print(f\"Length Train: {len(X_train)}\\nLength Validation: {len(X_val)}\")\n",
    "\n",
    "y_train[:10]"
   ]
  },
  {
   "cell_type": "code",
   "execution_count": 40,
   "metadata": {},
   "outputs": [
    {
     "data": {
      "text/html": [
       "<div>\n",
       "<style scoped>\n",
       "    .dataframe tbody tr th:only-of-type {\n",
       "        vertical-align: middle;\n",
       "    }\n",
       "\n",
       "    .dataframe tbody tr th {\n",
       "        vertical-align: top;\n",
       "    }\n",
       "\n",
       "    .dataframe thead th {\n",
       "        text-align: right;\n",
       "    }\n",
       "</style>\n",
       "<table border=\"1\" class=\"dataframe\">\n",
       "  <thead>\n",
       "    <tr style=\"text-align: right;\">\n",
       "      <th></th>\n",
       "      <th>Target</th>\n",
       "      <th>Text</th>\n",
       "      <th>TextClean</th>\n",
       "      <th>TextLen</th>\n",
       "      <th>TokenLen</th>\n",
       "    </tr>\n",
       "  </thead>\n",
       "  <tbody>\n",
       "    <tr>\n",
       "      <th>30349</th>\n",
       "      <td>1</td>\n",
       "      <td>Yassuo scores Perfect Example of High Level Tr...</td>\n",
       "      <td>yassuo scores perfect example of high level tr...</td>\n",
       "      <td>72</td>\n",
       "      <td>100</td>\n",
       "    </tr>\n",
       "    <tr>\n",
       "      <th>60819</th>\n",
       "      <td>1</td>\n",
       "      <td>Leaked out FIFA FIFA 21 GTA 6 gameplay. open t...</td>\n",
       "      <td>leaked out fifa fifa 21 gta 6 gameplay open th...</td>\n",
       "      <td>57</td>\n",
       "      <td>100</td>\n",
       "    </tr>\n",
       "    <tr>\n",
       "      <th>50511</th>\n",
       "      <td>0</td>\n",
       "      <td>she Leaked FIFA 21 GTA 6 gameplay. open the li...</td>\n",
       "      <td>she leaked fifa 21 gta 6 gameplay open the lin...</td>\n",
       "      <td>57</td>\n",
       "      <td>99</td>\n",
       "    </tr>\n",
       "    <tr>\n",
       "      <th>73041</th>\n",
       "      <td>1</td>\n",
       "      <td>Amazing good deal for you!.. Acer 6 Nitro 5 Ya...</td>\n",
       "      <td>amazing good deal for you acer 6 nitro 5 yamah...</td>\n",
       "      <td>60</td>\n",
       "      <td>92</td>\n",
       "    </tr>\n",
       "    <tr>\n",
       "      <th>34767</th>\n",
       "      <td>2</td>\n",
       "      <td>@AppStore plz unban fortnite I always love app...</td>\n",
       "      <td>plz unban fortnite i always love apple product...</td>\n",
       "      <td>68</td>\n",
       "      <td>91</td>\n",
       "    </tr>\n",
       "  </tbody>\n",
       "</table>\n",
       "</div>"
      ],
      "text/plain": [
       "       Target                                               Text  \\\n",
       "30349       1  Yassuo scores Perfect Example of High Level Tr...   \n",
       "60819       1  Leaked out FIFA FIFA 21 GTA 6 gameplay. open t...   \n",
       "50511       0  she Leaked FIFA 21 GTA 6 gameplay. open the li...   \n",
       "73041       1  Amazing good deal for you!.. Acer 6 Nitro 5 Ya...   \n",
       "34767       2  @AppStore plz unban fortnite I always love app...   \n",
       "\n",
       "                                               TextClean  TextLen  TokenLen  \n",
       "30349  yassuo scores perfect example of high level tr...       72       100  \n",
       "60819  leaked out fifa fifa 21 gta 6 gameplay open th...       57       100  \n",
       "50511  she leaked fifa 21 gta 6 gameplay open the lin...       57        99  \n",
       "73041  amazing good deal for you acer 6 nitro 5 yamah...       60        92  \n",
       "34767  plz unban fortnite i always love apple product...       68        91  "
      ]
     },
     "execution_count": 40,
     "metadata": {},
     "output_type": "execute_result"
    }
   ],
   "source": [
    "df_train.head()"
   ]
  },
  {
   "cell_type": "code",
   "execution_count": 41,
   "metadata": {},
   "outputs": [],
   "source": [
    "# Max Len for Tokenizing (max length is 100 Tokens but 128 is a better setting)\n",
    "MAX_LEN = 128\n",
    "\n",
    "# Roberta Tokenizer\n",
    "tokenizer = RobertaTokenizerFast.from_pretrained(\"roberta-base\")\n",
    "\n",
    "\n",
    "def tokenize(data: list[str], max_len: int = MAX_LEN) -> tuple[np.ndarray, np.ndarray]:\n",
    "    \"\"\"\n",
    "    Tokenizes a list of text strings into input IDs and attention masks suitable for input into pre-trained models. \n",
    "\n",
    "    Args:\n",
    "        data (list[str]): A list of text strings to be tokenized. Each text string in this list represents one piece of input data.\n",
    "        max_len (int, optional): The maximum length of the tokenized sequences. \n",
    "                                If a sequence is shorter than this length, it will be padded up to `max_len`. \n",
    "                                If it is longer, it will be truncated to this length. \n",
    "\n",
    "    Returns:\n",
    "        tuple[np.ndarray, np.ndarray]: A tuple containing two elements:\n",
    "            - The first element is a NumPy array of input IDs. \n",
    "              Each row in the array corresponds to the tokenized version of the corresponding text string in the input data.\n",
    "            - The second element is a NumPy array of attention masks. \n",
    "              Each row in the array is an attention mask corresponding to the tokenized version of the corresponding text string in the input data. \n",
    "              It has 1s for real tokens and 0s for padding tokens.\n",
    "\n",
    "    Note:\n",
    "        This function assumes that a pre-trained tokenizer is available and has been instantiated as `tokenizer`.\n",
    "    \"\"\"\n",
    "    input_ids = []\n",
    "    attention_masks = []\n",
    "    for i in range(len(data)):\n",
    "        encoded = tokenizer.encode_plus(\n",
    "            data[i],\n",
    "            add_special_tokens=True,\n",
    "            max_length=max_len,\n",
    "            padding=\"max_length\",\n",
    "            return_attention_mask=True,\n",
    "        )\n",
    "        input_ids.append(encoded[\"input_ids\"])\n",
    "        attention_masks.append(encoded[\"attention_mask\"])\n",
    "    return np.array(input_ids), np.array(attention_masks)"
   ]
  },
  {
   "cell_type": "code",
   "execution_count": 42,
   "metadata": {},
   "outputs": [],
   "source": [
    "# get model inputs\n",
    "train_input_ids, train_attention_masks = tokenize(data=X_train)\n",
    "val_input_ids, val_attention_masks = tokenize(data=X_val)"
   ]
  },
  {
   "cell_type": "code",
   "execution_count": 43,
   "metadata": {},
   "outputs": [],
   "source": [
    "def create_model(roberta_model: transformers.PreTrainedModel, max_len: int = MAX_LEN) -> tf.keras.Model:\n",
    "    \"\"\"\n",
    "    Initializes and compiles a TensorFlow model with a pre-trained RoBERTa model from the Hugging Face's Transformers library. \n",
    "    This model is designed for a multi-class classification task, taking sequences of input IDs and attention masks, \n",
    "    processing them through the RoBERTa model, and outputting class probabilities through a final dense layer.\n",
    "\n",
    "    Args:\n",
    "        roberta_model (transformers.PreTrainedModel): The pre-trained RoBERTa model\n",
    "        max_len (int, optional): The maximum sequence length for model inputs. Input sequences will be padded or truncated to this length. \n",
    "\n",
    "    Returns:\n",
    "        tf.keras.Model: A compiled Keras model ready for training.\n",
    "    \"\"\"\n",
    "    # model metrics  \n",
    "    opt = tf.keras.optimizers.Adam(learning_rate=1e-5)\n",
    "    loss = tf.keras.losses.CategoricalCrossentropy()\n",
    "    accuracy = tf.keras.metrics.CategoricalAccuracy()\n",
    "\n",
    "    # input layers\n",
    "    input_ids = tf.keras.Input(shape=(max_len,), dtype=\"int32\")\n",
    "    attention_masks = tf.keras.Input(shape=(max_len,), dtype=\"int32\")\n",
    "    \n",
    "    # roberta model\n",
    "    output = roberta_model([input_ids, attention_masks])\n",
    "    output = output[1]\n",
    "    output = tf.keras.layers.Dense(3, activation=tf.nn.softmax)(output)\n",
    "    \n",
    "    # create and compile model\n",
    "    model = tf.keras.models.Model(inputs=[input_ids, attention_masks], outputs=output)\n",
    "    model.compile(opt, loss=loss, metrics=accuracy)\n",
    "    return model"
   ]
  },
  {
   "cell_type": "code",
   "execution_count": 95,
   "metadata": {},
   "outputs": [
    {
     "name": "stderr",
     "output_type": "stream",
     "text": [
      "Some weights of the PyTorch model were not used when initializing the TF 2.0 model TFRobertaModel: ['roberta.embeddings.position_ids', 'lm_head.bias', 'lm_head.dense.bias', 'lm_head.layer_norm.weight', 'lm_head.dense.weight', 'lm_head.layer_norm.bias']\n",
      "- This IS expected if you are initializing TFRobertaModel from a PyTorch model trained on another task or with another architecture (e.g. initializing a TFBertForSequenceClassification model from a BertForPreTraining model).\n",
      "- This IS NOT expected if you are initializing TFRobertaModel from a PyTorch model that you expect to be exactly identical (e.g. initializing a TFBertForSequenceClassification model from a BertForSequenceClassification model).\n",
      "Some weights or buffers of the TF 2.0 model TFRobertaModel were not initialized from the PyTorch model and are newly initialized: ['roberta.pooler.dense.weight', 'roberta.pooler.dense.bias']\n",
      "You should probably TRAIN this model on a down-stream task to be able to use it for predictions and inference.\n"
     ]
    }
   ],
   "source": [
    "# pretrained Roberta Model\n",
    "roberta_model = TFRobertaModel.from_pretrained(\"roberta-base\")"
   ]
  },
  {
   "cell_type": "code",
   "execution_count": 45,
   "metadata": {},
   "outputs": [
    {
     "name": "stdout",
     "output_type": "stream",
     "text": [
      "Model: \"model\"\n",
      "__________________________________________________________________________________________________\n",
      " Layer (type)                Output Shape                 Param #   Connected to                  \n",
      "==================================================================================================\n",
      " input_1 (InputLayer)        [(None, 128)]                0         []                            \n",
      "                                                                                                  \n",
      " input_2 (InputLayer)        [(None, 128)]                0         []                            \n",
      "                                                                                                  \n",
      " tf_roberta_model (TFRobert  TFBaseModelOutputWithPooli   1246456   ['input_1[0][0]',             \n",
      " aModel)                     ngAndCrossAttentions(last_   32         'input_2[0][0]']             \n",
      "                             hidden_state=(None, 128, 7                                           \n",
      "                             68),                                                                 \n",
      "                              pooler_output=(None, 768)                                           \n",
      "                             , past_key_values=None, hi                                           \n",
      "                             dden_states=None, attentio                                           \n",
      "                             ns=None, cross_attentions=                                           \n",
      "                             None)                                                                \n",
      "                                                                                                  \n",
      " dense (Dense)               (None, 3)                    2307      ['tf_roberta_model[0][1]']    \n",
      "                                                                                                  \n",
      "==================================================================================================\n",
      "Total params: 124647939 (475.49 MB)\n",
      "Trainable params: 124647939 (475.49 MB)\n",
      "Non-trainable params: 0 (0.00 Byte)\n",
      "__________________________________________________________________________________________________\n"
     ]
    }
   ],
   "source": [
    "# create model\n",
    "model = create_model(roberta_model=roberta_model)\n",
    "# we dont freeze the backbone\n",
    "model.summary()"
   ]
  },
  {
   "cell_type": "code",
   "execution_count": 46,
   "metadata": {},
   "outputs": [],
   "source": [
    "checkpoint_path = \"./roberta_model/\"\n",
    "tensb_logs = \"./logs/\"\n",
    "\n",
    "# save the best model\n",
    "model_checkpoint = tf.keras.callbacks.ModelCheckpoint(\n",
    "    checkpoint_path, verbose=0, save_best_only=True\n",
    ")\n",
    "\n",
    "# tensorboard callback\n",
    "tensorboard = tf.keras.callbacks.TensorBoard(log_dir=tensb_logs, update_freq=\"epoch\")"
   ]
  },
  {
   "cell_type": "code",
   "execution_count": 48,
   "metadata": {},
   "outputs": [
    {
     "name": "stdout",
     "output_type": "stream",
     "text": [
      "Epoch 1/5\n",
      "2517/2517 [==============================] - ETA: 0s - loss: 0.6283 - categorical_accuracy: 0.7335INFO:tensorflow:Assets written to: ./roberta_model/assets\n"
     ]
    },
    {
     "name": "stderr",
     "output_type": "stream",
     "text": [
      "INFO:tensorflow:Assets written to: ./roberta_model/assets\n"
     ]
    },
    {
     "name": "stdout",
     "output_type": "stream",
     "text": [
      "2517/2517 [==============================] - 739s 294ms/step - loss: 0.6283 - categorical_accuracy: 0.7335 - val_loss: 0.3485 - val_categorical_accuracy: 0.8726\n",
      "Epoch 2/5\n",
      "2517/2517 [==============================] - ETA: 0s - loss: 0.3053 - categorical_accuracy: 0.8843INFO:tensorflow:Assets written to: ./roberta_model/assets\n"
     ]
    },
    {
     "name": "stderr",
     "output_type": "stream",
     "text": [
      "INFO:tensorflow:Assets written to: ./roberta_model/assets\n"
     ]
    },
    {
     "name": "stdout",
     "output_type": "stream",
     "text": [
      "2517/2517 [==============================] - 735s 292ms/step - loss: 0.3053 - categorical_accuracy: 0.8843 - val_loss: 0.1969 - val_categorical_accuracy: 0.9438\n",
      "Epoch 3/5\n",
      "2517/2517 [==============================] - ETA: 0s - loss: 0.1442 - categorical_accuracy: 0.9489INFO:tensorflow:Assets written to: ./roberta_model/assets\n"
     ]
    },
    {
     "name": "stderr",
     "output_type": "stream",
     "text": [
      "INFO:tensorflow:Assets written to: ./roberta_model/assets\n"
     ]
    },
    {
     "name": "stdout",
     "output_type": "stream",
     "text": [
      "2517/2517 [==============================] - 731s 290ms/step - loss: 0.1442 - categorical_accuracy: 0.9489 - val_loss: 0.1915 - val_categorical_accuracy: 0.9529\n",
      "Epoch 4/5\n",
      "2517/2517 [==============================] - ETA: 0s - loss: 0.0856 - categorical_accuracy: 0.9698INFO:tensorflow:Assets written to: ./roberta_model/assets\n"
     ]
    },
    {
     "name": "stderr",
     "output_type": "stream",
     "text": [
      "INFO:tensorflow:Assets written to: ./roberta_model/assets\n"
     ]
    },
    {
     "name": "stdout",
     "output_type": "stream",
     "text": [
      "2517/2517 [==============================] - 729s 290ms/step - loss: 0.0856 - categorical_accuracy: 0.9698 - val_loss: 0.1782 - val_categorical_accuracy: 0.9599\n",
      "Epoch 5/5\n",
      "2517/2517 [==============================] - 710s 282ms/step - loss: 0.0587 - categorical_accuracy: 0.9801 - val_loss: 0.2115 - val_categorical_accuracy: 0.9569\n"
     ]
    }
   ],
   "source": [
    "callbacks = [model_checkpoint, tensorboard]\n",
    "# train model\n",
    "history = model.fit(\n",
    "    [train_input_ids, train_attention_masks],\n",
    "    y_train,\n",
    "    validation_data=([val_input_ids, val_attention_masks], y_val),\n",
    "    epochs=5,\n",
    "    batch_size=32,\n",
    "    callbacks=callbacks,\n",
    ")"
   ]
  },
  {
   "cell_type": "code",
   "execution_count": 50,
   "metadata": {},
   "outputs": [
    {
     "data": {
      "image/png": "[encoded data removed]",
      "text/plain": [
       "<Figure size 1000x1000 with 2 Axes>"
      ]
     },
     "metadata": {},
     "output_type": "display_data"
    }
   ],
   "source": [
    "# define history metrics\n",
    "loss = history.history[\"loss\"]\n",
    "val_loss = history.history[\"val_loss\"]\n",
    "accuracy = history.history[\"categorical_accuracy\"]\n",
    "val_accuracy = history.history[\"val_categorical_accuracy\"]\n",
    "\n",
    "# the epochs the model trained\n",
    "epochs = range(1, len(loss) + 1)\n",
    "\n",
    "fig, ax = plt.subplots(2, 1, figsize=(10, 10))\n",
    "\n",
    "# plot training loss and validation loss\n",
    "ax[0].plot(epochs, loss, label=\"Training Loss\")\n",
    "ax[0].plot(epochs, val_loss, label=\"Validation Loss\")\n",
    "ax[0].set_title(\"Training and Validation Loss\")\n",
    "ax[0].set_xlabel(\"Epochs\")\n",
    "ax[0].set_ylabel(\"Loss\")\n",
    "ax[0].legend()\n",
    "\n",
    "# plot training accuracy and validation accuracy\n",
    "ax[1].plot(epochs, accuracy, label=\"Training Accuracy\")\n",
    "ax[1].plot(epochs, val_accuracy, label=\"Validation Accuracy\")\n",
    "ax[1].set_title(\"Training and Validation Accuracy\")\n",
    "ax[1].set_xlabel(\"Epochs\")\n",
    "ax[1].set_ylabel(\"Accuracy\")\n",
    "ax[1].legend()\n",
    "\n",
    "plt.tight_layout()\n",
    "plt.show()"
   ]
  },
  {
   "cell_type": "code",
   "execution_count": 59,
   "metadata": {},
   "outputs": [
    {
     "name": "stdout",
     "output_type": "stream",
     "text": [
      "32/32 [==============================] - 5s 108ms/step\n"
     ]
    }
   ],
   "source": [
    "# get predicted probabilities\n",
    "y_probs = model.predict([val_input_ids, val_attention_masks])"
   ]
  },
  {
   "cell_type": "code",
   "execution_count": 62,
   "metadata": {},
   "outputs": [
    {
     "data": {
      "text/plain": [
       "array([2, 1, 2, 1, 1, 1, 1, 1, 1, 1])"
      ]
     },
     "execution_count": 62,
     "metadata": {},
     "output_type": "execute_result"
    }
   ],
   "source": [
    "# get predicted labels\n",
    "y_pred = np.argmax(y_probs, axis=1)\n",
    "y_pred[:10]"
   ]
  },
  {
   "cell_type": "code",
   "execution_count": 65,
   "metadata": {},
   "outputs": [
    {
     "data": {
      "text/plain": [
       "array([2, 1, 2, 1, 1, 1, 1, 1, 1, 1])"
      ]
     },
     "execution_count": 65,
     "metadata": {},
     "output_type": "execute_result"
    }
   ],
   "source": [
    "# get true labels\n",
    "y_true = np.argmax(y_val, axis=1)\n",
    "y_true[:10]"
   ]
  },
  {
   "cell_type": "code",
   "execution_count": 63,
   "metadata": {},
   "outputs": [],
   "source": [
    "def make_confusion_matrix(\n",
    "    y_true: np.ndarray,\n",
    "    y_pred: np.ndarray,\n",
    "    classes: np.ndarray = None,\n",
    "    figsize: tuple[int, int] = (10, 10),\n",
    "    text_size: int = 15,\n",
    "    cmap: str = \"Blues\",\n",
    "    norm: bool = False,\n",
    "    savefig: bool = False,\n",
    ") -> None:\n",
    "    \"\"\"\n",
    "    Makes a labelled confusion matrix comparing predictions and ground truth labels, with options to normalize\n",
    "    and save the figure.\n",
    "\n",
    "    Args:\n",
    "      y_true (np.ndarray): Array of truth labels (must be same shape as y_pred).\n",
    "      y_pred (np.ndarray): Array of predicted labels (must be same shape as y_true).\n",
    "      classes (np.ndarray): Array of class labels (e.g., string form). If `None`, integer labels are used.\n",
    "      figsize (tuple[int, int]): Size of output figure (default=(10, 10)).\n",
    "      text_size (int): Size of output figure text (default=15).\n",
    "      norm (bool): If True, normalize the values in the confusion matrix (default=False).\n",
    "      savefig (bool): If True, save the confusion matrix plot to the current working directory (default=False).\n",
    "\n",
    "    Returns:\n",
    "        None: This function does not return a value but displays a Confusion Matrix. Optionally, it saves the plot.\n",
    "\n",
    "    Example usage:\n",
    "      make_confusion_matrix(y_true=test_labels, # ground truth test labels\n",
    "                            y_pred=y_preds, # predicted labels\n",
    "                            classes=class_names, # array of class label names\n",
    "                            figsize=(15, 15),\n",
    "                            text_size=10,\n",
    "                            norm=True,\n",
    "                            savefig=True)\n",
    "    \"\"\"\n",
    "    # Create the confusion matrix\n",
    "    cm = (\n",
    "        confusion_matrix(y_true, y_pred, normalize=\"true\")\n",
    "        if norm\n",
    "        else confusion_matrix(y_true, y_pred)\n",
    "    )\n",
    "\n",
    "    # Plot the figure\n",
    "    fig, ax = plt.subplots(figsize=figsize)\n",
    "    cax = ax.matshow(cm, cmap=cmap)\n",
    "    fig.colorbar(cax)\n",
    "\n",
    "    # Set class labels\n",
    "    if classes is not None:\n",
    "        labels = classes\n",
    "    else:\n",
    "        labels = np.arange(len(cm))\n",
    "\n",
    "    # Set the labels and titles\n",
    "    ax.set(\n",
    "        title=\"Confusion Matrix\",\n",
    "        xlabel=\"Predicted label\",\n",
    "        ylabel=\"True label\",\n",
    "        xticks=np.arange(len(labels)),\n",
    "        yticks=np.arange(len(labels)),\n",
    "        xticklabels=labels,\n",
    "        yticklabels=labels,\n",
    "    )\n",
    "    ax.xaxis.set_label_position(\"bottom\")\n",
    "    ax.xaxis.tick_bottom()\n",
    "    plt.xticks(rotation=70, fontsize=text_size)\n",
    "    plt.yticks(fontsize=text_size)\n",
    "\n",
    "    # Annotate the cells with the appropriate values\n",
    "    for i, j in itertools.product(range(cm.shape[0]), range(cm.shape[1])):\n",
    "        plt.text(\n",
    "            j,\n",
    "            i,\n",
    "            f\"{cm[i, j]:.2f}\" if norm else f\"{cm[i, j]}\",\n",
    "            horizontalalignment=\"center\",\n",
    "            color=\"white\" if cm[i, j] > cm.max() / 2 else \"black\",\n",
    "            size=text_size,\n",
    "        )\n",
    "\n",
    "    plt.tight_layout()\n",
    "    # Save the figure if requested\n",
    "    if savefig:\n",
    "        plt.savefig(\"confusion_matrix.png\")\n",
    "    plt.show()"
   ]
  },
  {
   "cell_type": "code",
   "execution_count": 70,
   "metadata": {},
   "outputs": [
    {
     "data": {
      "image/png": "[encoded data removed]",
      "text/plain": [
       "<Figure size 800x500 with 2 Axes>"
      ]
     },
     "metadata": {},
     "output_type": "display_data"
    }
   ],
   "source": [
    "classes = [\"Negativ\", \"Neutral\", \"Positive\"]\n",
    "\n",
    "# generate a Confusion Matrix\n",
    "make_confusion_matrix(\n",
    "    y_pred=y_pred, y_true=y_true, classes=classes, figsize=(8, 5), text_size=10\n",
    ")"
   ]
  },
  {
   "cell_type": "code",
   "execution_count": 77,
   "metadata": {},
   "outputs": [
    {
     "name": "stdout",
     "output_type": "stream",
     "text": [
      "              precision    recall  f1-score   support\n",
      "\n",
      "     Negativ       0.97      0.97      0.97       266\n",
      "     Neutral       0.97      0.95      0.96       455\n",
      "    Positive       0.92      0.96      0.94       276\n",
      "\n",
      "    accuracy                           0.96       997\n",
      "   macro avg       0.95      0.96      0.96       997\n",
      "weighted avg       0.96      0.96      0.96       997\n",
      "\n"
     ]
    }
   ],
   "source": [
    "# print classification report\n",
    "print(classification_report(y_pred=y_pred, y_true=y_true, target_names=classes))"
   ]
  },
  {
   "cell_type": "code",
   "execution_count": 83,
   "metadata": {},
   "outputs": [],
   "source": [
    "# sample texts needs tokenizing before prediction\n",
    "def tokenize_for_pred(\n",
    "    text: str, max_len: int = MAX_LEN\n",
    ") -> tuple[np.ndarray, np.ndarray]:\n",
    "    \"\"\"\n",
    "    Prepares a single text string for prediction by tokenizing it into input IDs and an attention mask using a pre-defined tokenizer. \n",
    "    \n",
    "    Args:\n",
    "        text (str): The text to be tokenized. This should be a single string.\n",
    "        max_len (int, optional): The maximum length of the tokenized output. \n",
    "\n",
    "    Returns:\n",
    "        tuple[np.ndarray, np.ndarray]: A tuple containing two elements:\n",
    "            - The first element is a NumPy array of the tokenized input IDs corresponding to the text.\n",
    "            - The second element is a NumPy array of the attention mask for the input IDs. The attention mask has 1s for real tokens and 0s for padding tokens.\n",
    "    \"\"\"\n",
    "    encoded = tokenizer.encode_plus(\n",
    "        text,\n",
    "        add_special_tokens=True,\n",
    "        max_length=max_len,\n",
    "        padding=\"max_length\",\n",
    "        return_attention_mask=True,\n",
    "    )\n",
    "    return np.array(encoded[\"input_ids\"]), np.array(encoded[\"attention_mask\"])"
   ]
  },
  {
   "cell_type": "code",
   "execution_count": 84,
   "metadata": {},
   "outputs": [],
   "source": [
    "def predict_on_text(model: tf.keras.Model, text: str) -> None:\n",
    "    \"\"\"\n",
    "    Performs a prediction using a specified model on a given text.\n",
    "\n",
    "    Args:\n",
    "        model (tf.keras.Model): The pre-trained and compiled TensorFlow model used for making predictions.\n",
    "        text (str): The text string on which the prediction is to be made.\n",
    "\n",
    "    Returns:\n",
    "        None: This function does not return a value. Instead, it prints the predicted class label, the corresponding class description, and the original text.\n",
    "    \"\"\"\n",
    "    input_ids, attention_masks = tokenize_for_pred(text=text)\n",
    "    # treat like batches\n",
    "    pred_prob = model.predict(\n",
    "        [np.expand_dims(input_ids, axis=0), np.expand_dims(attention_masks, axis=0)]\n",
    "    )\n",
    "    # get right label\n",
    "    pred_label = tf.argmax(pred_prob, axis=1).numpy()[0]\n",
    "    # print the Prediction\n",
    "    print(f\"Pred: {pred_label} ({classes[pred_label]})\")\n",
    "    print(f\"Text:\\n{text}\")"
   ]
  },
  {
   "cell_type": "code",
   "execution_count": 85,
   "metadata": {},
   "outputs": [
    {
     "name": "stdout",
     "output_type": "stream",
     "text": [
      "1/1 [==============================] - 0s 35ms/step\n",
      "Pred: 2 (Positive)\n",
      "Text:\n",
      "This Game is so amazing, i love it!\n"
     ]
    }
   ],
   "source": [
    "sample_text = \"This Game is so amazing, i love it!\"\n",
    "predict_on_text(model=model, text=sample_text)"
   ]
  },
  {
   "cell_type": "code",
   "execution_count": 87,
   "metadata": {},
   "outputs": [
    {
     "name": "stdout",
     "output_type": "stream",
     "text": [
      "1/1 [==============================] - 0s 22ms/step\n",
      "Pred: 0 (Negativ)\n",
      "Text:\n",
      "I hate this, you are stupid!\n"
     ]
    }
   ],
   "source": [
    "sample_text = \"I hate this, you are stupid!\"\n",
    "predict_on_text(model=model, text=sample_text)"
   ]
  },
  {
   "cell_type": "code",
   "execution_count": 94,
   "metadata": {},
   "outputs": [
    {
     "name": "stdout",
     "output_type": "stream",
     "text": [
      "1/1 [==============================] - 0s 23ms/step\n",
      "Pred: 1 (Neutral)\n",
      "Text:\n",
      "to weather is normal today\n"
     ]
    }
   ],
   "source": [
    "sample_text = \"to weather is normal today\"\n",
    "predict_on_text(model=model, text=sample_text)"
   ]
  }
 ],
 "metadata": {
  "kernelspec": {
   "display_name": "tf",
   "language": "python",
   "name": "python3"
  },
  "language_info": {
   "codemirror_mode": {
    "name": "ipython",
    "version": 3
   },
   "file_extension": ".py",
   "mimetype": "text/x-python",
   "name": "python",
   "nbconvert_exporter": "python",
   "pygments_lexer": "ipython3",
   "version": "3.10.13"
  }
 },
 "nbformat": 4,
 "nbformat_minor": 2
}
